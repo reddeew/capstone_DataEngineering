{
 "cells": [
  {
   "cell_type": "markdown",
   "metadata": {},
   "source": [
    "# Project Title\n",
    "### Data Engineering Capstone Project\n",
    "\n",
    "#### Project Summary\n",
    "--describe your project at a high level--\n",
    "\n",
    "The project follows the follow steps:\n",
    "* Step 1: Scope the Project and Gather Data\n",
    "* Step 2: Explore and Assess the Data\n",
    "* Step 3: Define the Data Model\n",
    "* Step 4: Run ETL to Model the Data\n",
    "* Step 5: Complete Project Write Up"
   ]
  },
  {
   "cell_type": "code",
   "execution_count": 14,
   "metadata": {},
   "outputs": [],
   "source": [
    "# Do all imports and installs here\n",
    "import pandas as pd\n",
    "from pyspark.sql import SparkSession\n",
    "from pyspark import SparkConf\n",
    "from typing import Dict, List\n",
    "from pyspark.sql import Window\n",
    "from pyspark.sql import functions as F\n",
    "from pyspark.sql.dataframe import DataFrame\n",
    "from pyspark.sql.types import DateType, StringType, FloatType, ByteType, IntegerType, DecimalType\n",
    "import os\n"
   ]
  },
  {
   "cell_type": "markdown",
   "metadata": {},
   "source": [
    "### Step 1: Scope the Project and Gather Data\n",
    "\n",
    "#### Scope \n",
    "Explain what you plan to do in the project in more detail. What data do you use? What is your end solution look like? What tools did you use? etc>\n",
    "\n",
    "#### Describe and Gather Data \n",
    "Describe the data sets you're using. Where did it come from? What type of information is included? "
   ]
  },
  {
   "cell_type": "code",
   "execution_count": 11,
   "metadata": {},
   "outputs": [],
   "source": [
    "from pyspark.sql import SparkSession\n",
    "\n",
    "spark = SparkSession.builder.\\\n",
    "config(\"spark.jars.repositories\", \"https://repos.spark-packages.org/\").\\\n",
    "config(\"spark.jars.packages\", \"saurfang:spark-sas7bdat:2.0.0-s_2.11\").\\\n",
    "enableHiveSupport().getOrCreate()"
   ]
  },
  {
   "cell_type": "markdown",
   "metadata": {},
   "source": [
    "# analysing global temparature city file"
   ]
  },
  {
   "cell_type": "code",
   "execution_count": 12,
   "metadata": {},
   "outputs": [],
   "source": [
    "input_dir = \"/workspace/home\"\n",
    "output_dir = \"/workspace/home/output\"\n",
    "    "
   ]
  },
  {
   "cell_type": "code",
   "execution_count": 18,
   "metadata": {},
   "outputs": [
    {
     "name": "stdout",
     "output_type": "stream",
     "text": [
      "Before process -----------\n",
      "+----------+-------------------+-----------------------------+-----+-------+--------+---------+\n",
      "|        dt| AverageTemperature|AverageTemperatureUncertainty| City|Country|Latitude|Longitude|\n",
      "+----------+-------------------+-----------------------------+-----+-------+--------+---------+\n",
      "|1743-11-01|              6.068|           1.7369999999999999|Århus|Denmark|  57.05N|   10.33E|\n",
      "|1743-12-01|               null|                         null|Århus|Denmark|  57.05N|   10.33E|\n",
      "|1744-01-01|               null|                         null|Århus|Denmark|  57.05N|   10.33E|\n",
      "|1744-02-01|               null|                         null|Århus|Denmark|  57.05N|   10.33E|\n",
      "|1744-03-01|               null|                         null|Århus|Denmark|  57.05N|   10.33E|\n",
      "|1744-04-01| 5.7879999999999985|           3.6239999999999997|Århus|Denmark|  57.05N|   10.33E|\n",
      "|1744-05-01|             10.644|           1.2830000000000001|Århus|Denmark|  57.05N|   10.33E|\n",
      "|1744-06-01| 14.050999999999998|                        1.347|Århus|Denmark|  57.05N|   10.33E|\n",
      "|1744-07-01|             16.082|                        1.396|Århus|Denmark|  57.05N|   10.33E|\n",
      "|1744-08-01|               null|                         null|Århus|Denmark|  57.05N|   10.33E|\n",
      "|1744-09-01| 12.780999999999999|                        1.454|Århus|Denmark|  57.05N|   10.33E|\n",
      "|1744-10-01|               7.95|                         1.63|Århus|Denmark|  57.05N|   10.33E|\n",
      "|1744-11-01|  4.638999999999999|           1.3019999999999998|Århus|Denmark|  57.05N|   10.33E|\n",
      "|1744-12-01|0.12199999999999987|                        1.756|Århus|Denmark|  57.05N|   10.33E|\n",
      "|1745-01-01|-1.3330000000000002|                        1.642|Århus|Denmark|  57.05N|   10.33E|\n",
      "|1745-02-01|             -2.732|                        1.358|Århus|Denmark|  57.05N|   10.33E|\n",
      "|1745-03-01|              0.129|                        1.088|Århus|Denmark|  57.05N|   10.33E|\n",
      "|1745-04-01|              4.042|                        1.138|Århus|Denmark|  57.05N|   10.33E|\n",
      "|1745-05-01|               null|                         null|Århus|Denmark|  57.05N|   10.33E|\n",
      "|1745-06-01|               null|                         null|Århus|Denmark|  57.05N|   10.33E|\n",
      "+----------+-------------------+-----------------------------+-----+-------+--------+---------+\n",
      "only showing top 20 rows\n",
      "\n",
      "None\n",
      "Data for globalcity_temperature_process table was successfully processed.\n",
      "+-------+----+-----+-------------------+-------------------------------+--------------+\n",
      "|country|year|month|average_temperature|average_temperature_uncertainty|temperature_id|\n",
      "+-------+----+-----+-------------------+-------------------------------+--------------+\n",
      "|Denmark|1760|   11|              3.447|                          3.927|             0|\n",
      "|Denmark|1765|    3|               3.12|             3.2089999999999996|             1|\n",
      "|Denmark|1800|    6|             12.283|             2.1180000000000003|             2|\n",
      "|Denmark|1820|    4|              6.789|             1.4669999999999999|             3|\n",
      "|Denmark|1832|    4|              6.936|                          3.908|             4|\n",
      "|Denmark|1873|    8|             16.046|                          0.305|             5|\n",
      "|Denmark|1897|    9| 12.482000000000001|                          0.405|             6|\n",
      "|Denmark|1947|    2| -7.816000000000002|                          0.531|             7|\n",
      "|Denmark|1992|    1|              3.148|                          0.342|             8|\n",
      "|Denmark|1996|    1|              -1.88|                          0.243|             9|\n",
      "| Turkey|1774|    8|             22.574|                         2.3622|            10|\n",
      "| Turkey|1782|    7| 22.916571428571427|              4.101428571428571|            11|\n",
      "| Turkey|1783|   10| 12.931285714285716|             3.3281428571428573|            12|\n",
      "| Turkey|1801|    7| 24.208555555555556|             2.2268888888888885|            13|\n",
      "| Turkey|1810|    7|  21.80966666666667|              2.493444444444444|            14|\n",
      "| Turkey|1810|    9| 18.541111111111107|             1.9055555555555554|            15|\n",
      "| Turkey|1821|    6| 17.743555555555556|              4.441999999999999|            16|\n",
      "| Turkey|1842|   10| 14.789111111111112|             1.6881111111111111|            17|\n",
      "| Turkey|1851|    9|  19.98711111111111|             0.9846666666666667|            18|\n",
      "| Turkey|1856|   10| 14.013222222222222|             1.2553333333333332|            19|\n",
      "+-------+----+-----+-------------------+-------------------------------+--------------+\n",
      "only showing top 20 rows\n",
      "\n"
     ]
    }
   ],
   "source": [
    "def globalcity_temperature_process(spark, input_dir, output_dir):\n",
    "\n",
    "    \"\"\"Create/Recreate globalcity_temperature_process dimension table.\"\"\"\n",
    "    table_name = \"globalcity_temperature_process\"\n",
    "    csv_path= os.path.join(input_dir, \"GlobalLandTemperaturesByCity.csv\")\n",
    "    temp_df = spark.read.option(\"header\", True).csv(csv_path)\n",
    "    print(\"Before process -----------\")\n",
    "    print(temp_df.show())\n",
    "    temp_df = temp_df.dropna()\n",
    "    temp_df = temp_df.withColumn(\"year\", F.year(\"dt\")).withColumn(\"month\", F.month(\"dt\"))\n",
    "    temp_df = temp_df.groupBy([F.col(\"Country\").alias(\"country\"), \"year\", \"month\"]).agg(\n",
    "        F.avg(\"AverageTemperature\").alias(\"average_temperature\"),\n",
    "        F.avg(\"AverageTemperatureUncertainty\").alias(\"average_temperature_uncertainty\"),\n",
    "    )\n",
    "    temp_df = temp_df.withColumn(\"temperature_id\", F.monotonically_increasing_id())\n",
    "\n",
    "    #check_data_quality(temp_df, \"temperature_id\", table_name)\n",
    "    output_path = os.path.join(output_dir, table_name)\n",
    "    print(f\"Data for {table_name} table was successfully processed.\")\n",
    "    temp_df.write.mode(\"overwrite\").parquet(output_path)\n",
    "    temp_df.show()\n",
    "globalcity_temperature_process(spark, input_dir, output_dir)"
   ]
  },
  {
   "cell_type": "markdown",
   "metadata": {},
   "source": [
    "# Analysing U.s demographic cities"
   ]
  },
  {
   "cell_type": "code",
   "execution_count": 25,
   "metadata": {},
   "outputs": [
    {
     "name": "stdout",
     "output_type": "stream",
     "text": [
      "Before processing -----------------------------\n",
      "+----------------+--------------+----------+---------------+-----------------+----------------+------------------+------------+----------------------+----------+--------------------+------+\n",
      "|            City|         State|Median Age|Male Population|Female Population|Total Population|Number of Veterans|Foreign-born|Average Household Size|State Code|                Race| Count|\n",
      "+----------------+--------------+----------+---------------+-----------------+----------------+------------------+------------+----------------------+----------+--------------------+------+\n",
      "|   Silver Spring|      Maryland|      33.8|          40601|            41862|           82463|              1562|       30908|                   2.6|        MD|  Hispanic or Latino| 25924|\n",
      "|          Quincy| Massachusetts|      41.0|          44129|            49500|           93629|              4147|       32935|                  2.39|        MA|               White| 58723|\n",
      "|          Hoover|       Alabama|      38.5|          38040|            46799|           84839|              4819|        8229|                  2.58|        AL|               Asian|  4759|\n",
      "|Rancho Cucamonga|    California|      34.5|          88127|            87105|          175232|              5821|       33878|                  3.18|        CA|Black or African-...| 24437|\n",
      "|          Newark|    New Jersey|      34.6|         138040|           143873|          281913|              5829|       86253|                  2.73|        NJ|               White| 76402|\n",
      "|          Peoria|      Illinois|      33.1|          56229|            62432|          118661|              6634|        7517|                   2.4|        IL|American Indian a...|  1343|\n",
      "|        Avondale|       Arizona|      29.1|          38712|            41971|           80683|              4815|        8355|                  3.18|        AZ|Black or African-...| 11592|\n",
      "|     West Covina|    California|      39.8|          51629|            56860|          108489|              3800|       37038|                  3.56|        CA|               Asian| 32716|\n",
      "|        O'Fallon|      Missouri|      36.0|          41762|            43270|           85032|              5783|        3269|                  2.77|        MO|  Hispanic or Latino|  2583|\n",
      "|      High Point|North Carolina|      35.5|          51751|            58077|          109828|              5204|       16315|                  2.65|        NC|               Asian| 11060|\n",
      "|          Folsom|    California|      40.9|          41051|            35317|           76368|              4187|       13234|                  2.62|        CA|  Hispanic or Latino|  5822|\n",
      "|          Folsom|    California|      40.9|          41051|            35317|           76368|              4187|       13234|                  2.62|        CA|American Indian a...|   998|\n",
      "|    Philadelphia|  Pennsylvania|      34.1|         741270|           826172|         1567442|             61995|      205339|                  2.61|        PA|               Asian|122721|\n",
      "|         Wichita|        Kansas|      34.6|         192354|           197601|          389955|             23978|       40270|                  2.56|        KS|  Hispanic or Latino| 65162|\n",
      "|         Wichita|        Kansas|      34.6|         192354|           197601|          389955|             23978|       40270|                  2.56|        KS|American Indian a...|  8791|\n",
      "|      Fort Myers|       Florida|      37.3|          36850|            37165|           74015|              4312|       15365|                  2.45|        FL|               White| 50169|\n",
      "|      Pittsburgh|  Pennsylvania|      32.9|         149690|           154695|          304385|             17728|       28187|                  2.13|        PA|               White|208863|\n",
      "|          Laredo|         Texas|      28.8|         124305|           131484|          255789|              4921|       68427|                  3.66|        TX|American Indian a...|  1253|\n",
      "|        Berkeley|    California|      32.5|          60142|            60829|          120971|              3736|       25000|                  2.35|        CA|               Asian| 27089|\n",
      "|     Santa Clara|    California|      35.2|          63278|            62938|          126216|              4426|       52281|                  2.75|        CA|               White| 55847|\n",
      "+----------------+--------------+----------+---------------+-----------------+----------------+------------------+------------+----------------------+----------+--------------------+------+\n",
      "only showing top 20 rows\n",
      "\n",
      "Data for demographic table was successfully processed.\n",
      "Data for demographic table was successfully processed.\n"
     ]
    }
   ],
   "source": [
    "def process_demographic(spark: SparkSession, input_dir_path: str, output_dir_path: str) -> None:\n",
    "    \"\"\"Create/Recreate demographic dimension table.\"\"\"\n",
    "    table_name = \"demographic\"\n",
    "\n",
    "    #demog_df = read_demographic_csv(spark, input_dir_path)\n",
    "    #csv_path = get_file_path(dir_path, \"us-cities-demographics.csv\")\n",
    "    #spark_df = spark.read.option(\"header\", True).options(delimiter=\";\").csv(csv_path)\n",
    "    csv_path= os.path.join(input_dir, \"us-cities-demographics.csv\")\n",
    "    #demog_df = spark.read.option(\"header\", True).csv(csv_path)\n",
    "    demog_df = spark.read.option(\"header\", True).options(delimiter=\";\").csv(csv_path)\n",
    "    print(\"Before processing -----------------------------\")\n",
    "    demog_df.show()\n",
    "    demog_df = demog_df.groupBy(F.col(\"State Code\").alias(\"state_code\")).agg(\n",
    "        F.sum(\"Total Population\").cast(IntegerType()).alias(\"total_population\"),\n",
    "        F.sum(\"Male Population\").cast(IntegerType()).alias(\"male_population\"),\n",
    "        F.sum(\"Female Population\").cast(IntegerType()).alias(\"female_population\"),\n",
    "        F.sum(\"Number of Veterans\").cast(IntegerType()).alias(\"number_of_veterans\"),\n",
    "        F.sum(\"Foreign-born\").cast(IntegerType()).alias(\"foregin_born\"),\n",
    "        F.avg(\"Median Age\").cast(FloatType()).alias(\"median_age\"),\n",
    "        F.avg(\"Average Household Size\").cast(FloatType()).alias(\"average_household_size\"),\n",
    "    )\n",
    "\n",
    "    #check_data_quality(demog_df, \"state_code\", table_name)\n",
    "    print(f\"Data for {table_name} table was successfully processed.\")\n",
    "    #demog_df.limit(5).toPandas()\n",
    "    #output_path = os.path.join(output_dir, table_name)\n",
    "    print(f\"Data for {table_name} table was successfully processed.\")\n",
    "    #demog_df.write.mode(\"overwrite\").parquet(output_path)\n",
    "    #demog_df.show()\n",
    "    return demog_df\n",
    "demog_df=process_demographic(spark, input_dir, output_dir)\n",
    "    #write_table_data(demog_df, output_dir_path, table_name)"
   ]
  },
  {
   "cell_type": "markdown",
   "metadata": {},
   "source": [
    "## Anlysing Immigration data"
   ]
  },
  {
   "cell_type": "code",
   "execution_count": 4,
   "metadata": {},
   "outputs": [],
   "source": [
    "immigration_df = spark.read.csv('immigration_data_sample.csv',header=True)"
   ]
  },
  {
   "cell_type": "code",
   "execution_count": null,
   "metadata": {},
   "outputs": [],
   "source": []
  },
  {
   "cell_type": "code",
   "execution_count": 5,
   "metadata": {},
   "outputs": [
    {
     "name": "stdout",
     "output_type": "stream",
     "text": [
      "root\n",
      " |-- _c0: string (nullable = true)\n",
      " |-- cicid: string (nullable = true)\n",
      " |-- i94yr: string (nullable = true)\n",
      " |-- i94mon: string (nullable = true)\n",
      " |-- i94cit: string (nullable = true)\n",
      " |-- i94res: string (nullable = true)\n",
      " |-- i94port: string (nullable = true)\n",
      " |-- arrdate: string (nullable = true)\n",
      " |-- i94mode: string (nullable = true)\n",
      " |-- i94addr: string (nullable = true)\n",
      " |-- depdate: string (nullable = true)\n",
      " |-- i94bir: string (nullable = true)\n",
      " |-- i94visa: string (nullable = true)\n",
      " |-- count: string (nullable = true)\n",
      " |-- dtadfile: string (nullable = true)\n",
      " |-- visapost: string (nullable = true)\n",
      " |-- occup: string (nullable = true)\n",
      " |-- entdepa: string (nullable = true)\n",
      " |-- entdepd: string (nullable = true)\n",
      " |-- entdepu: string (nullable = true)\n",
      " |-- matflag: string (nullable = true)\n",
      " |-- biryear: string (nullable = true)\n",
      " |-- dtaddto: string (nullable = true)\n",
      " |-- gender: string (nullable = true)\n",
      " |-- insnum: string (nullable = true)\n",
      " |-- airline: string (nullable = true)\n",
      " |-- admnum: string (nullable = true)\n",
      " |-- fltno: string (nullable = true)\n",
      " |-- visatype: string (nullable = true)\n",
      "\n"
     ]
    }
   ],
   "source": [
    "immigration_df.printSchema()"
   ]
  },
  {
   "cell_type": "code",
   "execution_count": 6,
   "metadata": {},
   "outputs": [
    {
     "name": "stdout",
     "output_type": "stream",
     "text": [
      "+-------+---------+------+------+------+------+-------+-------+-------+-------+-------+------+-------+-----+--------+--------+-----+-------+-------+-------+-------+-------+--------+------+------+-------+-------------+-----+--------+\n",
      "|_c0    |cicid    |i94yr |i94mon|i94cit|i94res|i94port|arrdate|i94mode|i94addr|depdate|i94bir|i94visa|count|dtadfile|visapost|occup|entdepa|entdepd|entdepu|matflag|biryear|dtaddto |gender|insnum|airline|admnum       |fltno|visatype|\n",
      "+-------+---------+------+------+------+------+-------+-------+-------+-------+-------+------+-------+-----+--------+--------+-----+-------+-------+-------+-------+-------+--------+------+------+-------+-------------+-----+--------+\n",
      "|2027561|4084316.0|2016.0|4.0   |209.0 |209.0 |HHW    |20566.0|1.0    |HI     |20573.0|61.0  |2.0    |1.0  |20160422|null    |null |G      |O      |null   |M      |1955.0 |07202016|F     |null  |JL     |56582674633.0|00782|WT      |\n",
      "|2171295|4422636.0|2016.0|4.0   |582.0 |582.0 |MCA    |20567.0|1.0    |TX     |20568.0|26.0  |2.0    |1.0  |20160423|MTR     |null |G      |R      |null   |M      |1990.0 |10222016|M     |null  |*GA    |94361995930.0|XBLNG|B2      |\n",
      "|589494 |1195600.0|2016.0|4.0   |148.0 |112.0 |OGG    |20551.0|1.0    |FL     |20571.0|76.0  |2.0    |1.0  |20160407|null    |null |G      |O      |null   |M      |1940.0 |07052016|M     |null  |LH     |55780468433.0|00464|WT      |\n",
      "|2631158|5291768.0|2016.0|4.0   |297.0 |297.0 |LOS    |20572.0|1.0    |CA     |20581.0|25.0  |2.0    |1.0  |20160428|DOH     |null |G      |O      |null   |M      |1991.0 |10272016|M     |null  |QR     |94789696030.0|00739|B2      |\n",
      "|3032257|985523.0 |2016.0|4.0   |111.0 |111.0 |CHM    |20550.0|3.0    |NY     |20553.0|19.0  |2.0    |1.0  |20160406|null    |null |Z      |K      |null   |M      |1997.0 |07042016|F     |null  |null   |42322572633.0|LAND |WT      |\n",
      "|721257 |1481650.0|2016.0|4.0   |577.0 |577.0 |ATL    |20552.0|1.0    |GA     |20606.0|51.0  |2.0    |1.0  |20160408|null    |null |T      |N      |null   |M      |1965.0 |10072016|M     |null  |DL     |736852585.0  |910  |B2      |\n",
      "|1072780|2197173.0|2016.0|4.0   |245.0 |245.0 |SFR    |20556.0|1.0    |CA     |20635.0|48.0  |2.0    |1.0  |20160412|null    |null |T      |O      |null   |M      |1968.0 |10112016|F     |null  |CX     |786312185.0  |870  |B2      |\n",
      "|112205 |232708.0 |2016.0|4.0   |113.0 |135.0 |NYC    |20546.0|1.0    |NY     |20554.0|33.0  |2.0    |1.0  |20160402|null    |null |G      |O      |null   |M      |1983.0 |06302016|F     |null  |BA     |55474485033.0|00117|WT      |\n",
      "|2577162|5227851.0|2016.0|4.0   |131.0 |131.0 |CHI    |20572.0|1.0    |IL     |20575.0|39.0  |2.0    |1.0  |20160428|null    |null |O      |O      |null   |M      |1977.0 |07262016|null  |null  |LX     |59413424733.0|00008|WT      |\n",
      "|10930  |13213.0  |2016.0|4.0   |116.0 |116.0 |LOS    |20545.0|1.0    |CA     |20553.0|35.0  |2.0    |1.0  |20160401|null    |null |O      |O      |null   |M      |1981.0 |06292016|null  |null  |AA     |55449792933.0|00109|WT      |\n",
      "|617174 |1230572.0|2016.0|4.0   |438.0 |438.0 |LOS    |20551.0|1.0    |CA     |20565.0|4.0   |2.0    |1.0  |20160407|null    |null |G      |O      |null   |M      |2012.0 |07052016|F     |null  |QF     |55743814633.0|00015|WT      |\n",
      "|2497156|5056736.0|2016.0|4.0   |209.0 |209.0 |PHI    |20571.0|1.0    |HI     |20575.0|72.0  |2.0    |1.0  |20160427|null    |null |G      |O      |null   |M      |1944.0 |07252016|M     |null  |DL     |59336618033.0|00598|WT      |\n",
      "|1339656|2711583.0|2016.0|4.0   |148.0 |112.0 |FTL    |20559.0|2.0    |null   |20565.0|54.0  |2.0    |1.0  |20160415|null    |null |G      |O      |null   |M      |1962.0 |07132016|F     |null  |VES    |56175860733.0|93724|WT      |\n",
      "|2430322|4916639.0|2016.0|4.0   |260.0 |260.0 |LOS    |20570.0|1.0    |CA     |20581.0|62.0  |2.0    |1.0  |20160426|MNL     |null |G      |O      |null   |M      |1954.0 |10252016|F     |null  |EK     |94612771030.0|00215|B2      |\n",
      "|682005 |1387607.0|2016.0|4.0   |148.0 |112.0 |BOS    |20552.0|1.0    |MA     |20560.0|34.0  |2.0    |1.0  |20160408|null    |null |G      |K      |null   |M      |1982.0 |07062016|F     |null  |AF     |55833387633.0|00338|WT      |\n",
      "|2938436|5960799.0|2016.0|4.0   |245.0 |245.0 |SAI    |20545.0|1.0    |null   |20550.0|30.0  |2.0    |1.0  |20160615|null    |null |P      |D      |null   |M      |1986.0 |04132016|M     |3882  |MU     |44162582033.0|00763|CP      |\n",
      "|530804 |1056530.0|2016.0|4.0   |512.0 |512.0 |NAS    |20550.0|1.0    |GA     |20552.0|21.0  |2.0    |1.0  |20160406|NSS     |null |G      |O      |null   |M      |1995.0 |10052016|F     |null  |DL     |92858001630.0|00554|B2      |\n",
      "|1187149|2466971.0|2016.0|4.0   |689.0 |689.0 |FTL    |20557.0|1.0    |FL     |20569.0|43.0  |2.0    |1.0  |20160413|null    |null |O      |O      |null   |M      |1973.0 |10122016|null  |null  |AD     |93384901630.0|08704|B2      |\n",
      "|2283033|4668286.0|2016.0|4.0   |746.0 |158.0 |SEA    |20568.0|1.0    |NV     |20571.0|46.0  |2.0    |1.0  |20160424|MOS     |null |G      |O      |null   |M      |1970.0 |10232016|M     |null  |DL     |94435600530.0|00143|B2      |\n",
      "|1262082|2556646.0|2016.0|4.0   |260.0 |260.0 |FTL    |20558.0|1.0    |CA     |20596.0|14.0  |2.0    |1.0  |20160414|MNL     |null |G      |O      |null   |M      |2002.0 |10132016|M     |null  |OZ     |93536845530.0|00204|B2      |\n",
      "+-------+---------+------+------+------+------+-------+-------+-------+-------+-------+------+-------+-----+--------+--------+-----+-------+-------+-------+-------+-------+--------+------+------+-------+-------------+-----+--------+\n",
      "only showing top 20 rows\n",
      "\n"
     ]
    }
   ],
   "source": [
    "immigration_df.show(truncate=False)"
   ]
  },
  {
   "cell_type": "code",
   "execution_count": 7,
   "metadata": {},
   "outputs": [
    {
     "data": {
      "text/plain": [
       "1000"
      ]
     },
     "execution_count": 7,
     "metadata": {},
     "output_type": "execute_result"
    }
   ],
   "source": [
    "immigration_df.count()"
   ]
  },
  {
   "cell_type": "code",
   "execution_count": 8,
   "metadata": {},
   "outputs": [
    {
     "data": {
      "text/plain": [
       "1000"
      ]
     },
     "execution_count": 8,
     "metadata": {},
     "output_type": "execute_result"
    }
   ],
   "source": [
    "immigration_df.dropDuplicates().count()"
   ]
  },
  {
   "cell_type": "code",
   "execution_count": 9,
   "metadata": {},
   "outputs": [
    {
     "name": "stdout",
     "output_type": "stream",
     "text": [
      "+-------+-----------------+------------------+------+------+------------------+------------------+-------+-----------------+------------------+-------+------------------+-----------------+------------------+-----+-----------------+--------+-----+-------+-------+-------+-------+-----------------+------------------+------+------------------+-------+--------------------+------------------+--------+\n",
      "|summary|_c0              |cicid             |i94yr |i94mon|i94cit            |i94res            |i94port|arrdate          |i94mode           |i94addr|depdate           |i94bir           |i94visa           |count|dtadfile         |visapost|occup|entdepa|entdepd|entdepu|matflag|biryear          |dtaddto           |gender|insnum            |airline|admnum              |fltno             |visatype|\n",
      "+-------+-----------------+------------------+------+------+------------------+------------------+-------+-----------------+------------------+-------+------------------+-----------------+------------------+-----+-----------------+--------+-----+-------+-------+-------+-------+-----------------+------------------+------+------------------+-------+--------------------+------------------+--------+\n",
      "|count  |1000             |1000              |1000  |1000  |1000              |1000              |1000   |1000             |1000              |941    |951               |1000             |1000              |1000 |1000             |382     |4    |1000   |954    |0      |954    |1000             |1000              |859   |35                |967    |1000                |992               |1000    |\n",
      "|mean   |1542097.12       |3040461.409       |2016.0|4.0   |302.928           |298.262           |null   |20559.68         |1.078             |null   |20575.03785488959 |42.382           |1.859             |1.0  |2.0160424879E7   |null    |null |null   |null   |null   |null   |1973.618         |8258277.404255319 |null  |3826.8571428571427|2.0    |6.9372367950789E10  |1337.2554291623578|null    |\n",
      "|stddev |915287.9043923795|1799817.7827726966|0.0   |0.0   |206.48528516334758|202.12038988683958|null   |8.995026987758733|0.4859548869516101|null   |24.211233522000143|17.90342449389526|0.3863525181337226|0.0  |49.51656540286629|null    |null |null   |null   |null   |null   |17.90342449389525|1622586.3557888167|null  |221.7425829858661 |0.0    |2.338134181802248E10|6149.954574383991 |null    |\n",
      "|min    |1006205          |1000074.0         |2016.0|4.0   |103.0             |103.0             |AGA    |20545.0          |1.0               |AL     |20547.0           |1.0              |1.0               |1.0  |20160401         |ABD     |OTH  |A      |D      |null   |M      |1923.0           |04082018          |F     |3468              |*GA    |0.0                 |00001             |B1      |\n",
      "|max    |997880           |999282.0          |2016.0|4.0   |746.0             |696.0             |X96    |20574.0          |9.0               |WI     |20715.0           |93.0             |3.0               |1.0  |20160801         |WRW     |STU  |Z      |W      |null   |M      |2015.0           |D/S               |X     |4686              |ZX     |95021509030.0       |XBLNG             |WT      |\n",
      "+-------+-----------------+------------------+------+------+------------------+------------------+-------+-----------------+------------------+-------+------------------+-----------------+------------------+-----+-----------------+--------+-----+-------+-------+-------+-------+-----------------+------------------+------+------------------+-------+--------------------+------------------+--------+\n",
      "\n"
     ]
    }
   ],
   "source": [
    "immigration_df.describe().show(truncate=False)"
   ]
  },
  {
   "cell_type": "code",
   "execution_count": 10,
   "metadata": {},
   "outputs": [],
   "source": [
    "immigration_df.write.parquet('immigration_data')"
   ]
  },
  {
   "cell_type": "code",
   "execution_count": 13,
   "metadata": {},
   "outputs": [
    {
     "data": {
      "text/plain": [
       "1000"
      ]
     },
     "execution_count": 13,
     "metadata": {},
     "output_type": "execute_result"
    }
   ],
   "source": [
    "spark.read.parquet('immigration_data').count()"
   ]
  },
  {
   "cell_type": "markdown",
   "metadata": {},
   "source": [
    "##  Analysing global temparature data "
   ]
  },
  {
   "cell_type": "code",
   "execution_count": 5,
   "metadata": {},
   "outputs": [],
   "source": [
    "#GlobalLandTemperaturesByCity.csv\n",
    "temp_df = spark.read.csv('GlobalLandTemperaturesByCity.csv',header=True)"
   ]
  },
  {
   "cell_type": "code",
   "execution_count": 6,
   "metadata": {},
   "outputs": [
    {
     "name": "stdout",
     "output_type": "stream",
     "text": [
      "Number of rows:  600311\n"
     ]
    },
    {
     "data": {
      "text/html": [
       "<div>\n",
       "<style scoped>\n",
       "    .dataframe tbody tr th:only-of-type {\n",
       "        vertical-align: middle;\n",
       "    }\n",
       "\n",
       "    .dataframe tbody tr th {\n",
       "        vertical-align: top;\n",
       "    }\n",
       "\n",
       "    .dataframe thead th {\n",
       "        text-align: right;\n",
       "    }\n",
       "</style>\n",
       "<table border=\"1\" class=\"dataframe\">\n",
       "  <thead>\n",
       "    <tr style=\"text-align: right;\">\n",
       "      <th></th>\n",
       "      <th>dt</th>\n",
       "      <th>AverageTemperature</th>\n",
       "      <th>AverageTemperatureUncertainty</th>\n",
       "      <th>City</th>\n",
       "      <th>Country</th>\n",
       "      <th>Latitude</th>\n",
       "      <th>Longitude</th>\n",
       "    </tr>\n",
       "  </thead>\n",
       "  <tbody>\n",
       "    <tr>\n",
       "      <th>0</th>\n",
       "      <td>1743-11-01</td>\n",
       "      <td>6.068</td>\n",
       "      <td>1.7369999999999999</td>\n",
       "      <td>Århus</td>\n",
       "      <td>Denmark</td>\n",
       "      <td>57.05N</td>\n",
       "      <td>10.33E</td>\n",
       "    </tr>\n",
       "    <tr>\n",
       "      <th>1</th>\n",
       "      <td>1743-12-01</td>\n",
       "      <td>None</td>\n",
       "      <td>None</td>\n",
       "      <td>Århus</td>\n",
       "      <td>Denmark</td>\n",
       "      <td>57.05N</td>\n",
       "      <td>10.33E</td>\n",
       "    </tr>\n",
       "    <tr>\n",
       "      <th>2</th>\n",
       "      <td>1744-01-01</td>\n",
       "      <td>None</td>\n",
       "      <td>None</td>\n",
       "      <td>Århus</td>\n",
       "      <td>Denmark</td>\n",
       "      <td>57.05N</td>\n",
       "      <td>10.33E</td>\n",
       "    </tr>\n",
       "    <tr>\n",
       "      <th>3</th>\n",
       "      <td>1744-02-01</td>\n",
       "      <td>None</td>\n",
       "      <td>None</td>\n",
       "      <td>Århus</td>\n",
       "      <td>Denmark</td>\n",
       "      <td>57.05N</td>\n",
       "      <td>10.33E</td>\n",
       "    </tr>\n",
       "    <tr>\n",
       "      <th>4</th>\n",
       "      <td>1744-03-01</td>\n",
       "      <td>None</td>\n",
       "      <td>None</td>\n",
       "      <td>Århus</td>\n",
       "      <td>Denmark</td>\n",
       "      <td>57.05N</td>\n",
       "      <td>10.33E</td>\n",
       "    </tr>\n",
       "  </tbody>\n",
       "</table>\n",
       "</div>"
      ],
      "text/plain": [
       "           dt AverageTemperature AverageTemperatureUncertainty   City  \\\n",
       "0  1743-11-01              6.068            1.7369999999999999  Århus   \n",
       "1  1743-12-01               None                          None  Århus   \n",
       "2  1744-01-01               None                          None  Århus   \n",
       "3  1744-02-01               None                          None  Århus   \n",
       "4  1744-03-01               None                          None  Århus   \n",
       "\n",
       "   Country Latitude Longitude  \n",
       "0  Denmark   57.05N    10.33E  \n",
       "1  Denmark   57.05N    10.33E  \n",
       "2  Denmark   57.05N    10.33E  \n",
       "3  Denmark   57.05N    10.33E  \n",
       "4  Denmark   57.05N    10.33E  "
      ]
     },
     "execution_count": 6,
     "metadata": {},
     "output_type": "execute_result"
    }
   ],
   "source": [
    "print(\"Number of rows: \", temp_df.count())\n",
    "temp_df.limit(5).toPandas()"
   ]
  },
  {
   "cell_type": "code",
   "execution_count": 7,
   "metadata": {},
   "outputs": [
    {
     "data": {
      "text/plain": [
       "600311"
      ]
     },
     "execution_count": 7,
     "metadata": {},
     "output_type": "execute_result"
    }
   ],
   "source": [
    "temp_df.count()"
   ]
  },
  {
   "cell_type": "code",
   "execution_count": 9,
   "metadata": {},
   "outputs": [
    {
     "data": {
      "text/plain": [
       "600311"
      ]
     },
     "execution_count": 9,
     "metadata": {},
     "output_type": "execute_result"
    }
   ],
   "source": [
    "\n",
    "temp_df.dropDuplicates().count()\n"
   ]
  },
  {
   "cell_type": "markdown",
   "metadata": {},
   "source": [
    "## Analysing airpots codes"
   ]
  },
  {
   "cell_type": "code",
   "execution_count": 10,
   "metadata": {},
   "outputs": [],
   "source": [
    "# Read in the data here\n",
    "airport_df = spark.read \\\n",
    "    .option(\"header\", True) \\\n",
    "    .csv(\"airport-codes_csv.csv\")"
   ]
  },
  {
   "cell_type": "code",
   "execution_count": 11,
   "metadata": {},
   "outputs": [
    {
     "name": "stdout",
     "output_type": "stream",
     "text": [
      "55075\n"
     ]
    },
    {
     "data": {
      "text/html": [
       "<div>\n",
       "<style scoped>\n",
       "    .dataframe tbody tr th:only-of-type {\n",
       "        vertical-align: middle;\n",
       "    }\n",
       "\n",
       "    .dataframe tbody tr th {\n",
       "        vertical-align: top;\n",
       "    }\n",
       "\n",
       "    .dataframe thead th {\n",
       "        text-align: right;\n",
       "    }\n",
       "</style>\n",
       "<table border=\"1\" class=\"dataframe\">\n",
       "  <thead>\n",
       "    <tr style=\"text-align: right;\">\n",
       "      <th></th>\n",
       "      <th>ident</th>\n",
       "      <th>type</th>\n",
       "      <th>name</th>\n",
       "      <th>elevation_ft</th>\n",
       "      <th>continent</th>\n",
       "      <th>iso_country</th>\n",
       "      <th>iso_region</th>\n",
       "      <th>municipality</th>\n",
       "      <th>gps_code</th>\n",
       "      <th>iata_code</th>\n",
       "      <th>local_code</th>\n",
       "      <th>coordinates</th>\n",
       "    </tr>\n",
       "  </thead>\n",
       "  <tbody>\n",
       "    <tr>\n",
       "      <th>0</th>\n",
       "      <td>00A</td>\n",
       "      <td>heliport</td>\n",
       "      <td>Total Rf Heliport</td>\n",
       "      <td>11</td>\n",
       "      <td>NA</td>\n",
       "      <td>US</td>\n",
       "      <td>US-PA</td>\n",
       "      <td>Bensalem</td>\n",
       "      <td>00A</td>\n",
       "      <td>None</td>\n",
       "      <td>00A</td>\n",
       "      <td>-74.93360137939453, 40.07080078125</td>\n",
       "    </tr>\n",
       "    <tr>\n",
       "      <th>1</th>\n",
       "      <td>00AA</td>\n",
       "      <td>small_airport</td>\n",
       "      <td>Aero B Ranch Airport</td>\n",
       "      <td>3435</td>\n",
       "      <td>NA</td>\n",
       "      <td>US</td>\n",
       "      <td>US-KS</td>\n",
       "      <td>Leoti</td>\n",
       "      <td>00AA</td>\n",
       "      <td>None</td>\n",
       "      <td>00AA</td>\n",
       "      <td>-101.473911, 38.704022</td>\n",
       "    </tr>\n",
       "    <tr>\n",
       "      <th>2</th>\n",
       "      <td>00AK</td>\n",
       "      <td>small_airport</td>\n",
       "      <td>Lowell Field</td>\n",
       "      <td>450</td>\n",
       "      <td>NA</td>\n",
       "      <td>US</td>\n",
       "      <td>US-AK</td>\n",
       "      <td>Anchor Point</td>\n",
       "      <td>00AK</td>\n",
       "      <td>None</td>\n",
       "      <td>00AK</td>\n",
       "      <td>-151.695999146, 59.94919968</td>\n",
       "    </tr>\n",
       "    <tr>\n",
       "      <th>3</th>\n",
       "      <td>00AL</td>\n",
       "      <td>small_airport</td>\n",
       "      <td>Epps Airpark</td>\n",
       "      <td>820</td>\n",
       "      <td>NA</td>\n",
       "      <td>US</td>\n",
       "      <td>US-AL</td>\n",
       "      <td>Harvest</td>\n",
       "      <td>00AL</td>\n",
       "      <td>None</td>\n",
       "      <td>00AL</td>\n",
       "      <td>-86.77030181884766, 34.86479949951172</td>\n",
       "    </tr>\n",
       "    <tr>\n",
       "      <th>4</th>\n",
       "      <td>00AR</td>\n",
       "      <td>closed</td>\n",
       "      <td>Newport Hospital &amp; Clinic Heliport</td>\n",
       "      <td>237</td>\n",
       "      <td>NA</td>\n",
       "      <td>US</td>\n",
       "      <td>US-AR</td>\n",
       "      <td>Newport</td>\n",
       "      <td>None</td>\n",
       "      <td>None</td>\n",
       "      <td>None</td>\n",
       "      <td>-91.254898, 35.6087</td>\n",
       "    </tr>\n",
       "  </tbody>\n",
       "</table>\n",
       "</div>"
      ],
      "text/plain": [
       "  ident           type                                name elevation_ft  \\\n",
       "0   00A       heliport                   Total Rf Heliport           11   \n",
       "1  00AA  small_airport                Aero B Ranch Airport         3435   \n",
       "2  00AK  small_airport                        Lowell Field          450   \n",
       "3  00AL  small_airport                        Epps Airpark          820   \n",
       "4  00AR         closed  Newport Hospital & Clinic Heliport          237   \n",
       "\n",
       "  continent iso_country iso_region  municipality gps_code iata_code  \\\n",
       "0        NA          US      US-PA      Bensalem      00A      None   \n",
       "1        NA          US      US-KS         Leoti     00AA      None   \n",
       "2        NA          US      US-AK  Anchor Point     00AK      None   \n",
       "3        NA          US      US-AL       Harvest     00AL      None   \n",
       "4        NA          US      US-AR       Newport     None      None   \n",
       "\n",
       "  local_code                            coordinates  \n",
       "0        00A     -74.93360137939453, 40.07080078125  \n",
       "1       00AA                 -101.473911, 38.704022  \n",
       "2       00AK            -151.695999146, 59.94919968  \n",
       "3       00AL  -86.77030181884766, 34.86479949951172  \n",
       "4       None                    -91.254898, 35.6087  "
      ]
     },
     "execution_count": 11,
     "metadata": {},
     "output_type": "execute_result"
    }
   ],
   "source": [
    "print(airport_df.count())\n",
    "airport_df.limit(5).toPandas()"
   ]
  },
  {
   "cell_type": "code",
   "execution_count": 12,
   "metadata": {},
   "outputs": [
    {
     "data": {
      "text/plain": [
       "55075"
      ]
     },
     "execution_count": 12,
     "metadata": {},
     "output_type": "execute_result"
    }
   ],
   "source": [
    "airport_df.dropDuplicates().count()"
   ]
  },
  {
   "cell_type": "markdown",
   "metadata": {},
   "source": [
    "## Analysing U.S.Demographic data"
   ]
  },
  {
   "cell_type": "code",
   "execution_count": 14,
   "metadata": {},
   "outputs": [],
   "source": [
    "demographic_df = spark.read \\\n",
    "    .option(\"header\", True) \\\n",
    "    .options(delimiter=';') \\\n",
    "    .csv(\"us-cities-demographics.csv\")"
   ]
  },
  {
   "cell_type": "code",
   "execution_count": 15,
   "metadata": {},
   "outputs": [
    {
     "name": "stdout",
     "output_type": "stream",
     "text": [
      "Number of rows:  2891\n"
     ]
    }
   ],
   "source": [
    "print(\"Number of rows: \", demographic_df.count())"
   ]
  },
  {
   "cell_type": "code",
   "execution_count": 16,
   "metadata": {},
   "outputs": [
    {
     "name": "stdout",
     "output_type": "stream",
     "text": [
      "2891\n"
     ]
    },
    {
     "data": {
      "text/html": [
       "<div>\n",
       "<style scoped>\n",
       "    .dataframe tbody tr th:only-of-type {\n",
       "        vertical-align: middle;\n",
       "    }\n",
       "\n",
       "    .dataframe tbody tr th {\n",
       "        vertical-align: top;\n",
       "    }\n",
       "\n",
       "    .dataframe thead th {\n",
       "        text-align: right;\n",
       "    }\n",
       "</style>\n",
       "<table border=\"1\" class=\"dataframe\">\n",
       "  <thead>\n",
       "    <tr style=\"text-align: right;\">\n",
       "      <th></th>\n",
       "      <th>ident</th>\n",
       "      <th>type</th>\n",
       "      <th>name</th>\n",
       "      <th>elevation_ft</th>\n",
       "      <th>continent</th>\n",
       "      <th>iso_country</th>\n",
       "      <th>iso_region</th>\n",
       "      <th>municipality</th>\n",
       "      <th>gps_code</th>\n",
       "      <th>iata_code</th>\n",
       "      <th>local_code</th>\n",
       "      <th>coordinates</th>\n",
       "    </tr>\n",
       "  </thead>\n",
       "  <tbody>\n",
       "    <tr>\n",
       "      <th>0</th>\n",
       "      <td>00A</td>\n",
       "      <td>heliport</td>\n",
       "      <td>Total Rf Heliport</td>\n",
       "      <td>11</td>\n",
       "      <td>NA</td>\n",
       "      <td>US</td>\n",
       "      <td>US-PA</td>\n",
       "      <td>Bensalem</td>\n",
       "      <td>00A</td>\n",
       "      <td>None</td>\n",
       "      <td>00A</td>\n",
       "      <td>-74.93360137939453, 40.07080078125</td>\n",
       "    </tr>\n",
       "    <tr>\n",
       "      <th>1</th>\n",
       "      <td>00AA</td>\n",
       "      <td>small_airport</td>\n",
       "      <td>Aero B Ranch Airport</td>\n",
       "      <td>3435</td>\n",
       "      <td>NA</td>\n",
       "      <td>US</td>\n",
       "      <td>US-KS</td>\n",
       "      <td>Leoti</td>\n",
       "      <td>00AA</td>\n",
       "      <td>None</td>\n",
       "      <td>00AA</td>\n",
       "      <td>-101.473911, 38.704022</td>\n",
       "    </tr>\n",
       "    <tr>\n",
       "      <th>2</th>\n",
       "      <td>00AK</td>\n",
       "      <td>small_airport</td>\n",
       "      <td>Lowell Field</td>\n",
       "      <td>450</td>\n",
       "      <td>NA</td>\n",
       "      <td>US</td>\n",
       "      <td>US-AK</td>\n",
       "      <td>Anchor Point</td>\n",
       "      <td>00AK</td>\n",
       "      <td>None</td>\n",
       "      <td>00AK</td>\n",
       "      <td>-151.695999146, 59.94919968</td>\n",
       "    </tr>\n",
       "    <tr>\n",
       "      <th>3</th>\n",
       "      <td>00AL</td>\n",
       "      <td>small_airport</td>\n",
       "      <td>Epps Airpark</td>\n",
       "      <td>820</td>\n",
       "      <td>NA</td>\n",
       "      <td>US</td>\n",
       "      <td>US-AL</td>\n",
       "      <td>Harvest</td>\n",
       "      <td>00AL</td>\n",
       "      <td>None</td>\n",
       "      <td>00AL</td>\n",
       "      <td>-86.77030181884766, 34.86479949951172</td>\n",
       "    </tr>\n",
       "    <tr>\n",
       "      <th>4</th>\n",
       "      <td>00AR</td>\n",
       "      <td>closed</td>\n",
       "      <td>Newport Hospital &amp; Clinic Heliport</td>\n",
       "      <td>237</td>\n",
       "      <td>NA</td>\n",
       "      <td>US</td>\n",
       "      <td>US-AR</td>\n",
       "      <td>Newport</td>\n",
       "      <td>None</td>\n",
       "      <td>None</td>\n",
       "      <td>None</td>\n",
       "      <td>-91.254898, 35.6087</td>\n",
       "    </tr>\n",
       "  </tbody>\n",
       "</table>\n",
       "</div>"
      ],
      "text/plain": [
       "  ident           type                                name elevation_ft  \\\n",
       "0   00A       heliport                   Total Rf Heliport           11   \n",
       "1  00AA  small_airport                Aero B Ranch Airport         3435   \n",
       "2  00AK  small_airport                        Lowell Field          450   \n",
       "3  00AL  small_airport                        Epps Airpark          820   \n",
       "4  00AR         closed  Newport Hospital & Clinic Heliport          237   \n",
       "\n",
       "  continent iso_country iso_region  municipality gps_code iata_code  \\\n",
       "0        NA          US      US-PA      Bensalem      00A      None   \n",
       "1        NA          US      US-KS         Leoti     00AA      None   \n",
       "2        NA          US      US-AK  Anchor Point     00AK      None   \n",
       "3        NA          US      US-AL       Harvest     00AL      None   \n",
       "4        NA          US      US-AR       Newport     None      None   \n",
       "\n",
       "  local_code                            coordinates  \n",
       "0        00A     -74.93360137939453, 40.07080078125  \n",
       "1       00AA                 -101.473911, 38.704022  \n",
       "2       00AK            -151.695999146, 59.94919968  \n",
       "3       00AL  -86.77030181884766, 34.86479949951172  \n",
       "4       None                    -91.254898, 35.6087  "
      ]
     },
     "execution_count": 16,
     "metadata": {},
     "output_type": "execute_result"
    }
   ],
   "source": [
    "print(demographic_df.count())\n",
    "airport_df.limit(5).toPandas()\n"
   ]
  },
  {
   "cell_type": "code",
   "execution_count": 27,
   "metadata": {},
   "outputs": [
    {
     "name": "stdout",
     "output_type": "stream",
     "text": [
      "Number of rows:  51\n"
     ]
    },
    {
     "data": {
      "text/html": [
       "<div>\n",
       "<style scoped>\n",
       "    .dataframe tbody tr th:only-of-type {\n",
       "        vertical-align: middle;\n",
       "    }\n",
       "\n",
       "    .dataframe tbody tr th {\n",
       "        vertical-align: top;\n",
       "    }\n",
       "\n",
       "    .dataframe thead th {\n",
       "        text-align: right;\n",
       "    }\n",
       "</style>\n",
       "<table border=\"1\" class=\"dataframe\">\n",
       "  <thead>\n",
       "    <tr style=\"text-align: right;\">\n",
       "      <th></th>\n",
       "      <th>state</th>\n",
       "      <th>state_code</th>\n",
       "    </tr>\n",
       "  </thead>\n",
       "  <tbody>\n",
       "    <tr>\n",
       "      <th>0</th>\n",
       "      <td>Alabama</td>\n",
       "      <td>AL</td>\n",
       "    </tr>\n",
       "    <tr>\n",
       "      <th>1</th>\n",
       "      <td>Alaska</td>\n",
       "      <td>AK</td>\n",
       "    </tr>\n",
       "    <tr>\n",
       "      <th>2</th>\n",
       "      <td>Arizona</td>\n",
       "      <td>AZ</td>\n",
       "    </tr>\n",
       "    <tr>\n",
       "      <th>3</th>\n",
       "      <td>Arkansas</td>\n",
       "      <td>AR</td>\n",
       "    </tr>\n",
       "    <tr>\n",
       "      <th>4</th>\n",
       "      <td>California</td>\n",
       "      <td>CA</td>\n",
       "    </tr>\n",
       "  </tbody>\n",
       "</table>\n",
       "</div>"
      ],
      "text/plain": [
       "        state state_code\n",
       "0     Alabama         AL\n",
       "1      Alaska         AK\n",
       "2     Arizona         AZ\n",
       "3    Arkansas         AR\n",
       "4  California         CA"
      ]
     },
     "execution_count": 27,
     "metadata": {},
     "output_type": "execute_result"
    }
   ],
   "source": [
    "us_states_df = pd.read_html('https://www23.statcan.gc.ca/imdb/p3VD.pl?Function=getVD&TVD=53971')[0]\n",
    "us_states_df = us_states_df.drop(columns=[\"Abbreviation\", \"Code\"])\n",
    "us_states_df = us_states_df.rename(columns={\"State\": \"state\", \"Alpha code\": \"state_code\"})\n",
    "us_states_df = spark.createDataFrame(us_states_df)\n",
    "\n",
    "print(\"Number of rows: \", us_states_df.count())\n",
    "us_states_df.limit(5).toPandas()"
   ]
  },
  {
   "cell_type": "markdown",
   "metadata": {},
   "source": [
    "### Step 2: Explore and Assess the Data\n",
    "#### Explore the Data \n",
    "Identify data quality issues, like missing values, duplicate data, etc.\n",
    "\n",
    "#### Cleaning Steps\n",
    "Document steps necessary to clean the data"
   ]
  },
  {
   "cell_type": "code",
   "execution_count": 18,
   "metadata": {},
   "outputs": [
    {
     "name": "stdout",
     "output_type": "stream",
     "text": [
      "Number of rows:  151549\n",
      "root\n",
      " |-- country: string (nullable = true)\n",
      " |-- year: integer (nullable = true)\n",
      " |-- month: integer (nullable = true)\n",
      " |-- average_temperature: double (nullable = true)\n",
      " |-- average_temperature_uncertainty: double (nullable = true)\n",
      " |-- temperature_id: long (nullable = false)\n",
      "\n"
     ]
    },
    {
     "data": {
      "text/html": [
       "<div>\n",
       "<style scoped>\n",
       "    .dataframe tbody tr th:only-of-type {\n",
       "        vertical-align: middle;\n",
       "    }\n",
       "\n",
       "    .dataframe tbody tr th {\n",
       "        vertical-align: top;\n",
       "    }\n",
       "\n",
       "    .dataframe thead th {\n",
       "        text-align: right;\n",
       "    }\n",
       "</style>\n",
       "<table border=\"1\" class=\"dataframe\">\n",
       "  <thead>\n",
       "    <tr style=\"text-align: right;\">\n",
       "      <th></th>\n",
       "      <th>country</th>\n",
       "      <th>year</th>\n",
       "      <th>month</th>\n",
       "      <th>average_temperature</th>\n",
       "      <th>average_temperature_uncertainty</th>\n",
       "      <th>temperature_id</th>\n",
       "    </tr>\n",
       "  </thead>\n",
       "  <tbody>\n",
       "    <tr>\n",
       "      <th>0</th>\n",
       "      <td>Denmark</td>\n",
       "      <td>1760</td>\n",
       "      <td>11</td>\n",
       "      <td>3.447</td>\n",
       "      <td>3.927</td>\n",
       "      <td>0</td>\n",
       "    </tr>\n",
       "    <tr>\n",
       "      <th>1</th>\n",
       "      <td>Denmark</td>\n",
       "      <td>1765</td>\n",
       "      <td>3</td>\n",
       "      <td>3.120</td>\n",
       "      <td>3.209</td>\n",
       "      <td>1</td>\n",
       "    </tr>\n",
       "    <tr>\n",
       "      <th>2</th>\n",
       "      <td>Denmark</td>\n",
       "      <td>1800</td>\n",
       "      <td>6</td>\n",
       "      <td>12.283</td>\n",
       "      <td>2.118</td>\n",
       "      <td>2</td>\n",
       "    </tr>\n",
       "    <tr>\n",
       "      <th>3</th>\n",
       "      <td>Denmark</td>\n",
       "      <td>1820</td>\n",
       "      <td>4</td>\n",
       "      <td>6.789</td>\n",
       "      <td>1.467</td>\n",
       "      <td>3</td>\n",
       "    </tr>\n",
       "    <tr>\n",
       "      <th>4</th>\n",
       "      <td>Denmark</td>\n",
       "      <td>1832</td>\n",
       "      <td>4</td>\n",
       "      <td>6.936</td>\n",
       "      <td>3.908</td>\n",
       "      <td>4</td>\n",
       "    </tr>\n",
       "  </tbody>\n",
       "</table>\n",
       "</div>"
      ],
      "text/plain": [
       "   country  year  month  average_temperature  average_temperature_uncertainty  \\\n",
       "0  Denmark  1760     11                3.447                            3.927   \n",
       "1  Denmark  1765      3                3.120                            3.209   \n",
       "2  Denmark  1800      6               12.283                            2.118   \n",
       "3  Denmark  1820      4                6.789                            1.467   \n",
       "4  Denmark  1832      4                6.936                            3.908   \n",
       "\n",
       "   temperature_id  \n",
       "0               0  \n",
       "1               1  \n",
       "2               2  \n",
       "3               3  \n",
       "4               4  "
      ]
     },
     "execution_count": 18,
     "metadata": {},
     "output_type": "execute_result"
    }
   ],
   "source": [
    "# Performing cleaning tasks here\n",
    "\n",
    "dim_country_temperature_evolution_df = temp_df.dropna()\n",
    "dim_country_temperature_evolution_df = dim_country_temperature_evolution_df.withColumn(\"year\", F.year(\"dt\")).withColumn(\"month\", F.month(\"dt\"))\n",
    "dim_country_temperature_evolution_df = dim_country_temperature_evolution_df.groupBy([F.col(\"Country\").alias(\"country\"), \"year\", \"month\"]).agg(\n",
    "    F.avg(\"AverageTemperature\").alias(\"average_temperature\"),\n",
    "    F.avg(\"AverageTemperatureUncertainty\").alias(\"average_temperature_uncertainty\"),\n",
    ") \n",
    "dim_country_temperature_evolution_df = dim_country_temperature_evolution_df.withColumn('temperature_id', F.monotonically_increasing_id())\n",
    "\n",
    "print(\"Number of rows: \", dim_country_temperature_evolution_df.count())\n",
    "dim_country_temperature_evolution_df.printSchema()\n",
    "dim_country_temperature_evolution_df.limit(5).toPandas()\n"
   ]
  },
  {
   "cell_type": "code",
   "execution_count": 7,
   "metadata": {},
   "outputs": [
    {
     "ename": "NameError",
     "evalue": "name 'dim_country_temperature_evolution_df' is not defined",
     "output_type": "error",
     "traceback": [
      "\u001b[0;31m---------------------------------------------------------------------------\u001b[0m",
      "\u001b[0;31mNameError\u001b[0m                                 Traceback (most recent call last)",
      "\u001b[0;32m<ipython-input-7-62a3ebe0a3f0>\u001b[0m in \u001b[0;36m<module>\u001b[0;34m()\u001b[0m\n\u001b[1;32m     12\u001b[0m     \u001b[0;32mreturn\u001b[0m \u001b[0mdf_spark\u001b[0m\u001b[0;34m.\u001b[0m\u001b[0mselect\u001b[0m\u001b[0;34m(\u001b[0m\u001b[0mno_chars_list\u001b[0m\u001b[0;34m)\u001b[0m\u001b[0;34m.\u001b[0m\u001b[0mlimit\u001b[0m\u001b[0;34m(\u001b[0m\u001b[0mlen\u001b[0m\u001b[0;34m(\u001b[0m\u001b[0mno_chars_list\u001b[0m\u001b[0;34m)\u001b[0m\u001b[0;34m)\u001b[0m\u001b[0;34m.\u001b[0m\u001b[0mtoPandas\u001b[0m\u001b[0;34m(\u001b[0m\u001b[0;34m)\u001b[0m\u001b[0;34m.\u001b[0m\u001b[0mT\u001b[0m\u001b[0;34m\u001b[0m\u001b[0m\n\u001b[1;32m     13\u001b[0m \u001b[0;34m\u001b[0m\u001b[0m\n\u001b[0;32m---> 14\u001b[0;31m \u001b[0mget_no_of_chars\u001b[0m\u001b[0;34m(\u001b[0m\u001b[0mdim_country_temperature_evolution_df\u001b[0m\u001b[0;34m)\u001b[0m\u001b[0;34m\u001b[0m\u001b[0m\n\u001b[0m",
      "\u001b[0;31mNameError\u001b[0m: name 'dim_country_temperature_evolution_df' is not defined"
     ]
    }
   ],
   "source": [
    "from pyspark.sql.dataframe import DataFrame\n",
    "\n",
    "def get_no_of_chars(df_spark: DataFrame) -> pd.DataFrame:\n",
    "    \"\"\"Get the minimum and maximum number of characters per string type columns.\"\"\"\n",
    "    for column, dtype in df_spark.dtypes:\n",
    "        if dtype == 'string':\n",
    "            df_spark = df_spark.withColumn(f\"len_{column}\", F.length(column))\n",
    "\n",
    "    min_list = [F.min(column) for column, dtype in df_spark.dtypes if \"len_\" in column]\n",
    "    max_list = [F.max(column) for column, dtype in df_spark.dtypes if \"len_\" in column]\n",
    "    no_chars_list = min_list + max_list\n",
    "    return df_spark.select(no_chars_list).limit(len(no_chars_list)).toPandas().T\n",
    "\n",
    "get_no_of_chars(dim_country_temperature_evolution_df)"
   ]
  },
  {
   "cell_type": "code",
   "execution_count": 20,
   "metadata": {},
   "outputs": [
    {
     "name": "stdout",
     "output_type": "stream",
     "text": [
      "Number of rows:  49\n",
      "root\n",
      " |-- state_code: string (nullable = true)\n",
      " |-- total_population: integer (nullable = true)\n",
      " |-- male_population: integer (nullable = true)\n",
      " |-- female_population: integer (nullable = true)\n",
      " |-- number_of_veterans: integer (nullable = true)\n",
      " |-- foregin_born: integer (nullable = true)\n",
      " |-- median_age: float (nullable = true)\n",
      " |-- average_household_size: float (nullable = true)\n",
      "\n"
     ]
    },
    {
     "data": {
      "text/html": [
       "<div>\n",
       "<style scoped>\n",
       "    .dataframe tbody tr th:only-of-type {\n",
       "        vertical-align: middle;\n",
       "    }\n",
       "\n",
       "    .dataframe tbody tr th {\n",
       "        vertical-align: top;\n",
       "    }\n",
       "\n",
       "    .dataframe thead th {\n",
       "        text-align: right;\n",
       "    }\n",
       "</style>\n",
       "<table border=\"1\" class=\"dataframe\">\n",
       "  <thead>\n",
       "    <tr style=\"text-align: right;\">\n",
       "      <th></th>\n",
       "      <th>state_code</th>\n",
       "      <th>total_population</th>\n",
       "      <th>male_population</th>\n",
       "      <th>female_population</th>\n",
       "      <th>number_of_veterans</th>\n",
       "      <th>foregin_born</th>\n",
       "      <th>median_age</th>\n",
       "      <th>average_household_size</th>\n",
       "    </tr>\n",
       "  </thead>\n",
       "  <tbody>\n",
       "    <tr>\n",
       "      <th>0</th>\n",
       "      <td>AZ</td>\n",
       "      <td>22497710</td>\n",
       "      <td>11137275</td>\n",
       "      <td>11360435</td>\n",
       "      <td>1322525</td>\n",
       "      <td>3411565</td>\n",
       "      <td>35.037498</td>\n",
       "      <td>2.774375</td>\n",
       "    </tr>\n",
       "    <tr>\n",
       "      <th>1</th>\n",
       "      <td>SC</td>\n",
       "      <td>2586976</td>\n",
       "      <td>1265291</td>\n",
       "      <td>1321685</td>\n",
       "      <td>163334</td>\n",
       "      <td>134019</td>\n",
       "      <td>33.825001</td>\n",
       "      <td>2.469583</td>\n",
       "    </tr>\n",
       "    <tr>\n",
       "      <th>2</th>\n",
       "      <td>LA</td>\n",
       "      <td>6502975</td>\n",
       "      <td>3134990</td>\n",
       "      <td>3367985</td>\n",
       "      <td>348855</td>\n",
       "      <td>417095</td>\n",
       "      <td>34.625000</td>\n",
       "      <td>2.465000</td>\n",
       "    </tr>\n",
       "    <tr>\n",
       "      <th>3</th>\n",
       "      <td>MN</td>\n",
       "      <td>7044165</td>\n",
       "      <td>3478803</td>\n",
       "      <td>3565362</td>\n",
       "      <td>321738</td>\n",
       "      <td>1069888</td>\n",
       "      <td>35.579628</td>\n",
       "      <td>2.496852</td>\n",
       "    </tr>\n",
       "    <tr>\n",
       "      <th>4</th>\n",
       "      <td>NJ</td>\n",
       "      <td>6931024</td>\n",
       "      <td>3423033</td>\n",
       "      <td>3507991</td>\n",
       "      <td>146632</td>\n",
       "      <td>2327750</td>\n",
       "      <td>35.254387</td>\n",
       "      <td>2.960877</td>\n",
       "    </tr>\n",
       "  </tbody>\n",
       "</table>\n",
       "</div>"
      ],
      "text/plain": [
       "  state_code  total_population  male_population  female_population  \\\n",
       "0         AZ          22497710         11137275           11360435   \n",
       "1         SC           2586976          1265291            1321685   \n",
       "2         LA           6502975          3134990            3367985   \n",
       "3         MN           7044165          3478803            3565362   \n",
       "4         NJ           6931024          3423033            3507991   \n",
       "\n",
       "   number_of_veterans  foregin_born  median_age  average_household_size  \n",
       "0             1322525       3411565   35.037498                2.774375  \n",
       "1              163334        134019   33.825001                2.469583  \n",
       "2              348855        417095   34.625000                2.465000  \n",
       "3              321738       1069888   35.579628                2.496852  \n",
       "4              146632       2327750   35.254387                2.960877  "
      ]
     },
     "execution_count": 20,
     "metadata": {},
     "output_type": "execute_result"
    }
   ],
   "source": [
    "dim_demographic_df = demographic_df.groupBy(F.col(\"State Code\").alias(\"state_code\")).agg(\n",
    "    F.sum(\"Total Population\").cast(IntegerType()).alias(\"total_population\"),\n",
    "    F.sum(\"Male Population\").cast(IntegerType()).alias(\"male_population\"),\n",
    "    F.sum(\"Female Population\").cast(IntegerType()).alias(\"female_population\"),\n",
    "    F.sum(\"Number of Veterans\").cast(IntegerType()).alias(\"number_of_veterans\"),\n",
    "    F.sum(\"Foreign-born\").cast(IntegerType()).alias(\"foregin_born\"),\n",
    "    F.avg(\"Median Age\").cast(FloatType()).alias(\"median_age\"),\n",
    "    F.avg(\"Average Household Size\").cast(FloatType()).alias(\"average_household_size\"),\n",
    ") \n",
    "\n",
    "print(\"Number of rows: \", dim_demographic_df.count())\n",
    "dim_demographic_df.printSchema()\n",
    "dim_demographic_df.limit(5).toPandas()"
   ]
  },
  {
   "cell_type": "code",
   "execution_count": 25,
   "metadata": {},
   "outputs": [
    {
     "ename": "NameError",
     "evalue": "name 'us_states_df' is not defined",
     "output_type": "error",
     "traceback": [
      "\u001b[0;31m---------------------------------------------------------------------------\u001b[0m",
      "\u001b[0;31mNameError\u001b[0m                                 Traceback (most recent call last)",
      "\u001b[0;32m<ipython-input-25-d70e5c23360a>\u001b[0m in \u001b[0;36m<module>\u001b[0;34m()\u001b[0m\n\u001b[0;32m----> 1\u001b[0;31m \u001b[0mdim_us_states_df\u001b[0m \u001b[0;34m=\u001b[0m \u001b[0mus_states_df\u001b[0m\u001b[0;34m\u001b[0m\u001b[0m\n\u001b[0m\u001b[1;32m      2\u001b[0m \u001b[0;34m\u001b[0m\u001b[0m\n\u001b[1;32m      3\u001b[0m \u001b[0mprint\u001b[0m\u001b[0;34m(\u001b[0m\u001b[0;34m\"Number of rows: \"\u001b[0m\u001b[0;34m,\u001b[0m \u001b[0mdim_us_states_df\u001b[0m\u001b[0;34m.\u001b[0m\u001b[0mcount\u001b[0m\u001b[0;34m(\u001b[0m\u001b[0;34m)\u001b[0m\u001b[0;34m)\u001b[0m\u001b[0;34m\u001b[0m\u001b[0m\n\u001b[1;32m      4\u001b[0m \u001b[0mdim_us_states_df\u001b[0m\u001b[0;34m.\u001b[0m\u001b[0mprintSchema\u001b[0m\u001b[0;34m(\u001b[0m\u001b[0;34m)\u001b[0m\u001b[0;34m\u001b[0m\u001b[0m\n\u001b[1;32m      5\u001b[0m \u001b[0mdim_us_states_df\u001b[0m\u001b[0;34m.\u001b[0m\u001b[0mlimit\u001b[0m\u001b[0;34m(\u001b[0m\u001b[0;36m5\u001b[0m\u001b[0;34m)\u001b[0m\u001b[0;34m.\u001b[0m\u001b[0mtoPandas\u001b[0m\u001b[0;34m(\u001b[0m\u001b[0;34m)\u001b[0m\u001b[0;34m\u001b[0m\u001b[0m\n",
      "\u001b[0;31mNameError\u001b[0m: name 'us_states_df' is not defined"
     ]
    }
   ],
   "source": [
    "dim_us_states_df = us_states_df\n",
    "\n",
    "print(\"Number of rows: \", dim_us_states_df.count())\n",
    "dim_us_states_df.printSchema()\n",
    "dim_us_states_df.limit(5).toPandas()"
   ]
  },
  {
   "cell_type": "code",
   "execution_count": 26,
   "metadata": {},
   "outputs": [
    {
     "ename": "ModuleNotFoundError",
     "evalue": "No module named 'utils'",
     "output_type": "error",
     "traceback": [
      "\u001b[0;31m---------------------------------------------------------------------------\u001b[0m",
      "\u001b[0;31mModuleNotFoundError\u001b[0m                       Traceback (most recent call last)",
      "\u001b[0;32m<ipython-input-26-2e76c481aa0b>\u001b[0m in \u001b[0;36m<module>\u001b[0;34m()\u001b[0m\n\u001b[0;32m----> 1\u001b[0;31m \u001b[0;32mfrom\u001b[0m \u001b[0mutils\u001b[0m\u001b[0;34m.\u001b[0m\u001b[0mread_data\u001b[0m \u001b[0;32mimport\u001b[0m \u001b[0mread_i94_descr\u001b[0m\u001b[0;34m\u001b[0m\u001b[0m\n\u001b[0m\u001b[1;32m      2\u001b[0m \u001b[0minput_dir_path\u001b[0m \u001b[0;34m=\u001b[0m \u001b[0;34m\"raw_data\"\u001b[0m\u001b[0;34m\u001b[0m\u001b[0m\n\u001b[1;32m      3\u001b[0m \u001b[0;34m\u001b[0m\u001b[0m\n\u001b[1;32m      4\u001b[0m \u001b[0mvisa_category\u001b[0m \u001b[0;34m=\u001b[0m \u001b[0mread_i94_descr\u001b[0m\u001b[0;34m(\u001b[0m\u001b[0;34m\"I94VISA\"\u001b[0m\u001b[0;34m,\u001b[0m \u001b[0minput_dir_path\u001b[0m\u001b[0;34m)\u001b[0m\u001b[0;34m\u001b[0m\u001b[0m\n\u001b[1;32m      5\u001b[0m dim_visa_df = imm_df.select(\n",
      "\u001b[0;31mModuleNotFoundError\u001b[0m: No module named 'utils'"
     ]
    }
   ],
   "source": [
    "from utils.read_data import read_i94_descr\n",
    "input_dir_path = \"raw_data\"\n",
    "\n",
    "visa_category = read_i94_descr(\"I94VISA\", input_dir_path)\n",
    "dim_visa_df = imm_df.select(\n",
    "    F.col(\"visatype\").alias(\"visa_type\"),\n",
    "    F.col(\"visapost\").alias(\"visa_issuer\"),\n",
    "    F.col(\"I94VISA\").alias(\"visa_category_code\").cast(IntegerType()).cast(StringType()),\n",
    ").dropDuplicates()\n",
    "dim_visa_df = dim_visa_df.withColumn(\"visa_category\", F.col(\"visa_category_code\")).replace(visa_category, subset=\"visa_category\")\n",
    "\n",
    "window_visa = Window.orderBy(\"visa_type\")\n",
    "dim_visa_df = dim_visa_df.withColumn(\"visa_id\", F.row_number().over(window_visa))\n",
    "\n",
    "print(dim_visa_df.count())\n",
    "dim_visa_df.printSchema()\n",
    "dim_visa_df.limit(5).toPandas()"
   ]
  },
  {
   "cell_type": "markdown",
   "metadata": {},
   "source": [
    "### Step 3: Define the Data Model\n",
    "#### 3.1 Conceptual Data Model\n",
    "Map out the conceptual data model and explain why you chose that model\n",
    "\n",
    "#### 3.2 Mapping Out Data Pipelines\n",
    "List the steps necessary to pipeline the data into the chosen data model"
   ]
  },
  {
   "cell_type": "markdown",
   "metadata": {},
   "source": [
    "### Step 4: Run Pipelines to Model the Data \n",
    "#### 4.1 Create the data model\n",
    "Build the data pipelines to create the data model."
   ]
  },
  {
   "cell_type": "markdown",
   "metadata": {},
   "source": [
    "#### 4.2 Data Quality Checks\n",
    "Explain the data quality checks you'll perform to ensure the pipeline ran as expected. These could include:\n",
    " * Integrity constraints on the relational database (e.g., unique key, data type, etc.)\n",
    " * Unit tests for the scripts to ensure they are doing the right thing\n",
    " * Source/Count checks to ensure completeness\n",
    " \n",
    "Run Quality Checks"
   ]
  },
  {
   "cell_type": "markdown",
   "metadata": {},
   "source": [
    "#### 4.3 Data dictionary \n",
    "Create a data dictionary for your data model. For each field, provide a brief description of what the data is and where it came from. You can include the data dictionary in the notebook or in a separate file."
   ]
  },
  {
   "cell_type": "markdown",
   "metadata": {},
   "source": [
    "#### Step 5: Complete Project Write Up\n",
    "* Clearly state the rationale for the choice of tools and technologies for the project.\n",
    "* Propose how often the data should be updated and why.\n",
    "* Write a description of how you would approach the problem differently under the following scenarios:\n",
    " * The data was increased by 100x.\n",
    " * The data populates a dashboard that must be updated on a daily basis by 7am every day.\n",
    " * The database needed to be accessed by 100+ people."
   ]
  },
  {
   "cell_type": "code",
   "execution_count": 5,
   "metadata": {},
   "outputs": [
    {
     "name": "stdout",
     "output_type": "stream",
     "text": [
      "  Code Continent name\n",
      "0   AF         Africa\n",
      "1   AN     Antarctica\n",
      "2   AS           Asia\n",
      "3   EU         Europe\n",
      "4   NA  North america\n",
      "5   OC        Oceania\n",
      "6   SA  South america\n",
      "Continent list from https://www.php.net/manual/en/function.geoip-continent-code-by-name.php was successfully read.\n"
     ]
    },
    {
     "data": {
      "text/plain": [
       "DataFrame[Code: string, Continent name: string]"
      ]
     },
     "execution_count": 5,
     "metadata": {},
     "output_type": "execute_result"
    }
   ],
   "source": [
    "from pyspark.sql import SparkSession\n",
    "from pyspark.sql.types import StructType, StructField, StringType\n",
    "import pandas as pd\n",
    "\n",
    "def read_continent_list(spark: SparkSession) -> DataFrame:\n",
    "    link = \"https://www.php.net/manual/en/function.geoip-continent-code-by-name.php\"\n",
    "    pd_df = pd.read_html(link, keep_default_na=False)[0]\n",
    "    print(pd_df)\n",
    "    \n",
    "    schema = StructType([\n",
    "        StructField(\"Code\", StringType(), True),\n",
    "        StructField(\"Continent name\", StringType(), True)\n",
    "    ])\n",
    "    \n",
    "    spark_df = spark.createDataFrame(pd_df, schema=schema)\n",
    "    print(f\"Continent list from {link} was successfully read.\")\n",
    "    return spark_df\n",
    "\n",
    "read_continent_list(spark)"
   ]
  },
  {
   "cell_type": "code",
   "execution_count": 8,
   "metadata": {},
   "outputs": [
    {
     "name": "stdout",
     "output_type": "stream",
     "text": [
      "+----+--------------+\n",
      "|Code|Continent name|\n",
      "+----+--------------+\n",
      "|  AF|        Africa|\n",
      "|  AN|    Antarctica|\n",
      "|  AS|          Asia|\n",
      "|  EU|        Europe|\n",
      "|  NA| North america|\n",
      "|  OC|       Oceania|\n",
      "|  SA| South america|\n",
      "+----+--------------+\n",
      "\n",
      "None\n",
      "Continent list from https://www.php.net/manual/en/function.geoip-continent-code-by-name.php was successfully read.\n"
     ]
    },
    {
     "data": {
      "text/plain": [
       "DataFrame[Code: string, Continent name: string]"
      ]
     },
     "execution_count": 8,
     "metadata": {},
     "output_type": "execute_result"
    }
   ],
   "source": [
    "def read_continet_list(spark: SparkSession) -> DataFrame:\n",
    "    link = \"https://www.php.net/manual/en/function.geoip-continent-code-by-name.php\"\n",
    "    pd_df = pd.read_html(link, keep_default_na=False)[0]\n",
    "    spark_df = spark.createDataFrame(pd_df)\n",
    "    print(spark_df.show())\n",
    "    print(f\"Continent list from {link} was successfully read.\")\n",
    "    return spark_df\n",
    "read_continet_list(spark)"
   ]
  },
  {
   "cell_type": "code",
   "execution_count": 4,
   "metadata": {},
   "outputs": [
    {
     "name": "stdout",
     "output_type": "stream",
     "text": [
      "Country list from https://countrycode.org/ was successfully read.\n",
      "+-------------------+------------+\n",
      "|            country|country_code|\n",
      "+-------------------+------------+\n",
      "|        Afghanistan|          AF|\n",
      "|            Albania|          AL|\n",
      "|            Algeria|          DZ|\n",
      "|     American Samoa|          AS|\n",
      "|            Andorra|          AD|\n",
      "|             Angola|          AO|\n",
      "|           Anguilla|          AI|\n",
      "|         Antarctica|          AQ|\n",
      "|Antigua and Barbuda|          AG|\n",
      "|          Argentina|          AR|\n",
      "|            Armenia|          AM|\n",
      "|              Aruba|          AW|\n",
      "|          Australia|          AU|\n",
      "|            Austria|          AT|\n",
      "|         Azerbaijan|          AZ|\n",
      "|            Bahamas|          BS|\n",
      "|            Bahrain|          BH|\n",
      "|         Bangladesh|          BD|\n",
      "|           Barbados|          BB|\n",
      "|            Belarus|          BY|\n",
      "+-------------------+------------+\n",
      "only showing top 20 rows\n",
      "\n",
      "None\n"
     ]
    },
    {
     "data": {
      "text/plain": [
       "DataFrame[country: string, country_code: string]"
      ]
     },
     "execution_count": 4,
     "metadata": {},
     "output_type": "execute_result"
    }
   ],
   "source": [
    "def read_country_list(spark: SparkSession) -> DataFrame:\n",
    "    \"\"\"Read the country list from 'https://countrycode.org/'.\"\"\"\n",
    "    link = \"https://countrycode.org/\"\n",
    "    pd_df = pd.read_html(link)[1]\n",
    "    pd_df[\"ISO CODES\"] = pd_df[\"ISO CODES\"].apply(lambda value: value.split(\" / \")[0])\n",
    "    pd_df.drop(columns=[\"COUNTRY CODE\"], inplace=True)\n",
    "    pd_df.rename(\n",
    "        columns={\"COUNTRY\": \"country\", \"ISO CODES\": \"country_code\"}, inplace=True\n",
    "    )\n",
    "\n",
    "    spark_df = spark.createDataFrame(pd_df)\n",
    "    print(f\"Country list from {link} was successfully read.\")\n",
    "    print(spark_df.show())\n",
    "    return spark_df\n",
    "read_country_list(spark)"
   ]
  },
  {
   "cell_type": "code",
   "execution_count": 7,
   "metadata": {},
   "outputs": [
    {
     "name": "stdout",
     "output_type": "stream",
     "text": [
      "                            COUNTRY COUNTRY CODE ISO CODES\n",
      "0                       Afghanistan           93  AF / AFG\n",
      "1                           Albania          355  AL / ALB\n",
      "2                           Algeria          213  DZ / DZA\n",
      "3                    American Samoa        1-684  AS / ASM\n",
      "4                           Andorra          376  AD / AND\n",
      "5                            Angola          244  AO / AGO\n",
      "6                          Anguilla        1-264  AI / AIA\n",
      "7                        Antarctica          672  AQ / ATA\n",
      "8               Antigua and Barbuda        1-268  AG / ATG\n",
      "9                         Argentina           54  AR / ARG\n",
      "10                          Armenia          374  AM / ARM\n",
      "11                            Aruba          297  AW / ABW\n",
      "12                        Australia           61  AU / AUS\n",
      "13                          Austria           43  AT / AUT\n",
      "14                       Azerbaijan          994  AZ / AZE\n",
      "15                          Bahamas        1-242  BS / BHS\n",
      "16                          Bahrain          973  BH / BHR\n",
      "17                       Bangladesh          880  BD / BGD\n",
      "18                         Barbados        1-246  BB / BRB\n",
      "19                          Belarus          375  BY / BLR\n",
      "20                          Belgium           32  BE / BEL\n",
      "21                           Belize          501  BZ / BLZ\n",
      "22                            Benin          229  BJ / BEN\n",
      "23                          Bermuda        1-441  BM / BMU\n",
      "24                           Bhutan          975  BT / BTN\n",
      "25                          Bolivia          591  BO / BOL\n",
      "26           Bosnia and Herzegovina          387  BA / BIH\n",
      "27                         Botswana          267  BW / BWA\n",
      "28                           Brazil           55  BR / BRA\n",
      "29   British Indian Ocean Territory          246  IO / IOT\n",
      "..                              ...          ...       ...\n",
      "210                          Taiwan          886  TW / TWN\n",
      "211                      Tajikistan          992  TJ / TJK\n",
      "212                        Tanzania          255  TZ / TZA\n",
      "213                        Thailand           66  TH / THA\n",
      "214                            Togo          228  TG / TGO\n",
      "215                         Tokelau          690  TK / TKL\n",
      "216                           Tonga          676  TO / TON\n",
      "217             Trinidad and Tobago        1-868  TT / TTO\n",
      "218                         Tunisia          216  TN / TUN\n",
      "219                          Turkey           90  TR / TUR\n",
      "220                    Turkmenistan          993  TM / TKM\n",
      "221        Turks and Caicos Islands        1-649  TC / TCA\n",
      "222                          Tuvalu          688  TV / TUV\n",
      "223             U.S. Virgin Islands        1-340  VI / VIR\n",
      "224                          Uganda          256  UG / UGA\n",
      "225                         Ukraine          380  UA / UKR\n",
      "226            United Arab Emirates          971  AE / ARE\n",
      "227                  United Kingdom           44  GB / GBR\n",
      "228                   United States            1  US / USA\n",
      "229                         Uruguay          598  UY / URY\n",
      "230                      Uzbekistan          998  UZ / UZB\n",
      "231                         Vanuatu          678  VU / VUT\n",
      "232                         Vatican          379  VA / VAT\n",
      "233                       Venezuela           58  VE / VEN\n",
      "234                         Vietnam           84  VN / VNM\n",
      "235               Wallis and Futuna          681  WF / WLF\n",
      "236                  Western Sahara          212  EH / ESH\n",
      "237                           Yemen          967  YE / YEM\n",
      "238                          Zambia          260  ZM / ZMB\n",
      "239                        Zimbabwe          263  ZW / ZWE\n",
      "\n",
      "[240 rows x 3 columns]\n",
      "Country list from https://countrycode.org/ was successfully read.\n",
      "+-------------------+------------+\n",
      "|            country|country_code|\n",
      "+-------------------+------------+\n",
      "|        Afghanistan|          AF|\n",
      "|            Albania|          AL|\n",
      "|            Algeria|          DZ|\n",
      "|     American Samoa|          AS|\n",
      "|            Andorra|          AD|\n",
      "|             Angola|          AO|\n",
      "|           Anguilla|          AI|\n",
      "|         Antarctica|          AQ|\n",
      "|Antigua and Barbuda|          AG|\n",
      "|          Argentina|          AR|\n",
      "|            Armenia|          AM|\n",
      "|              Aruba|          AW|\n",
      "|          Australia|          AU|\n",
      "|            Austria|          AT|\n",
      "|         Azerbaijan|          AZ|\n",
      "|            Bahamas|          BS|\n",
      "|            Bahrain|          BH|\n",
      "|         Bangladesh|          BD|\n",
      "|           Barbados|          BB|\n",
      "|            Belarus|          BY|\n",
      "+-------------------+------------+\n",
      "only showing top 20 rows\n",
      "\n",
      "None\n"
     ]
    },
    {
     "data": {
      "text/plain": [
       "DataFrame[country: string, country_code: string]"
      ]
     },
     "execution_count": 7,
     "metadata": {},
     "output_type": "execute_result"
    }
   ],
   "source": [
    "def read_country_list(spark: SparkSession) -> DataFrame:\n",
    "    \"\"\"Read the country list from 'https://countrycode.org/'.\"\"\"\n",
    "    link = \"https://countrycode.org/\"\n",
    "    pd_df = pd.read_html(link)[1]\n",
    "    print(pd_df)\n",
    "    pd_df[\"ISO CODES\"] = pd_df[\"ISO CODES\"].apply(lambda value: value.split(\" / \")[0])\n",
    "    pd_df.drop(columns=[\"COUNTRY CODE\"], inplace=True)\n",
    "    pd_df.rename(\n",
    "        columns={\"COUNTRY\": \"country\", \"ISO CODES\": \"country_code\"}, inplace=True\n",
    "    )\n",
    "\n",
    "    spark_df = spark.createDataFrame(pd_df)\n",
    "    print(f\"Country list from {link} was successfully read.\")\n",
    "    print(spark_df.show())\n",
    "    return spark_df\n",
    "    #print(spark_df.show())\n",
    "read_country_list(spark)"
   ]
  },
  {
   "cell_type": "code",
   "execution_count": 10,
   "metadata": {},
   "outputs": [],
   "source": [
    "import boto3\n",
    "\n",
    "# Create an S3 client\n",
    "s3 = boto3.client('s3')\n",
    "\n",
    "# Specify your AWS access key and secret access key\n",
    "access_key = ''\n",
    "secret_key = ''\n",
    "\n",
    "# Set the credentials for the S3 client\n",
    "s3 = boto3.client('s3', aws_access_key_id=access_key, aws_secret_access_key=secret_key)"
   ]
  },
  {
   "cell_type": "code",
   "execution_count": 12,
   "metadata": {},
   "outputs": [
    {
     "name": "stdout",
     "output_type": "stream",
     "text": [
      "Uploaded path_to_save_parquet_file.parquet/part-00074-9d82d212-f51e-4a86-bc40-4a410a409507-c000.snappy.parquet to S3 bucket capstoneglobaltemp at capstoneglobaltemp/part-00074-9d82d212-f51e-4a86-bc40-4a410a409507-c000.snappy.parquet\n",
      "Uploaded path_to_save_parquet_file.parquet/part-00192-9d82d212-f51e-4a86-bc40-4a410a409507-c000.snappy.parquet to S3 bucket capstoneglobaltemp at capstoneglobaltemp/part-00192-9d82d212-f51e-4a86-bc40-4a410a409507-c000.snappy.parquet\n",
      "Uploaded path_to_save_parquet_file.parquet/part-00121-9d82d212-f51e-4a86-bc40-4a410a409507-c000.snappy.parquet to S3 bucket capstoneglobaltemp at capstoneglobaltemp/part-00121-9d82d212-f51e-4a86-bc40-4a410a409507-c000.snappy.parquet\n",
      "Uploaded path_to_save_parquet_file.parquet/part-00073-9d82d212-f51e-4a86-bc40-4a410a409507-c000.snappy.parquet to S3 bucket capstoneglobaltemp at capstoneglobaltemp/part-00073-9d82d212-f51e-4a86-bc40-4a410a409507-c000.snappy.parquet\n",
      "Uploaded path_to_save_parquet_file.parquet/part-00038-9d82d212-f51e-4a86-bc40-4a410a409507-c000.snappy.parquet to S3 bucket capstoneglobaltemp at capstoneglobaltemp/part-00038-9d82d212-f51e-4a86-bc40-4a410a409507-c000.snappy.parquet\n",
      "Uploaded path_to_save_parquet_file.parquet/part-00142-9d82d212-f51e-4a86-bc40-4a410a409507-c000.snappy.parquet to S3 bucket capstoneglobaltemp at capstoneglobaltemp/part-00142-9d82d212-f51e-4a86-bc40-4a410a409507-c000.snappy.parquet\n",
      "Uploaded path_to_save_parquet_file.parquet/part-00054-9d82d212-f51e-4a86-bc40-4a410a409507-c000.snappy.parquet to S3 bucket capstoneglobaltemp at capstoneglobaltemp/part-00054-9d82d212-f51e-4a86-bc40-4a410a409507-c000.snappy.parquet\n",
      "Uploaded path_to_save_parquet_file.parquet/part-00032-9d82d212-f51e-4a86-bc40-4a410a409507-c000.snappy.parquet to S3 bucket capstoneglobaltemp at capstoneglobaltemp/part-00032-9d82d212-f51e-4a86-bc40-4a410a409507-c000.snappy.parquet\n",
      "Uploaded path_to_save_parquet_file.parquet/part-00155-9d82d212-f51e-4a86-bc40-4a410a409507-c000.snappy.parquet to S3 bucket capstoneglobaltemp at capstoneglobaltemp/part-00155-9d82d212-f51e-4a86-bc40-4a410a409507-c000.snappy.parquet\n",
      "Uploaded path_to_save_parquet_file.parquet/part-00148-9d82d212-f51e-4a86-bc40-4a410a409507-c000.snappy.parquet to S3 bucket capstoneglobaltemp at capstoneglobaltemp/part-00148-9d82d212-f51e-4a86-bc40-4a410a409507-c000.snappy.parquet\n",
      "Uploaded path_to_save_parquet_file.parquet/part-00020-9d82d212-f51e-4a86-bc40-4a410a409507-c000.snappy.parquet to S3 bucket capstoneglobaltemp at capstoneglobaltemp/part-00020-9d82d212-f51e-4a86-bc40-4a410a409507-c000.snappy.parquet\n",
      "Uploaded path_to_save_parquet_file.parquet/part-00061-9d82d212-f51e-4a86-bc40-4a410a409507-c000.snappy.parquet to S3 bucket capstoneglobaltemp at capstoneglobaltemp/part-00061-9d82d212-f51e-4a86-bc40-4a410a409507-c000.snappy.parquet\n",
      "Uploaded path_to_save_parquet_file.parquet/part-00023-9d82d212-f51e-4a86-bc40-4a410a409507-c000.snappy.parquet to S3 bucket capstoneglobaltemp at capstoneglobaltemp/part-00023-9d82d212-f51e-4a86-bc40-4a410a409507-c000.snappy.parquet\n",
      "Uploaded path_to_save_parquet_file.parquet/part-00014-9d82d212-f51e-4a86-bc40-4a410a409507-c000.snappy.parquet to S3 bucket capstoneglobaltemp at capstoneglobaltemp/part-00014-9d82d212-f51e-4a86-bc40-4a410a409507-c000.snappy.parquet\n",
      "Uploaded path_to_save_parquet_file.parquet/part-00052-9d82d212-f51e-4a86-bc40-4a410a409507-c000.snappy.parquet to S3 bucket capstoneglobaltemp at capstoneglobaltemp/part-00052-9d82d212-f51e-4a86-bc40-4a410a409507-c000.snappy.parquet\n",
      "Uploaded path_to_save_parquet_file.parquet/part-00137-9d82d212-f51e-4a86-bc40-4a410a409507-c000.snappy.parquet to S3 bucket capstoneglobaltemp at capstoneglobaltemp/part-00137-9d82d212-f51e-4a86-bc40-4a410a409507-c000.snappy.parquet\n",
      "Uploaded path_to_save_parquet_file.parquet/part-00093-9d82d212-f51e-4a86-bc40-4a410a409507-c000.snappy.parquet to S3 bucket capstoneglobaltemp at capstoneglobaltemp/part-00093-9d82d212-f51e-4a86-bc40-4a410a409507-c000.snappy.parquet\n",
      "Uploaded path_to_save_parquet_file.parquet/part-00096-9d82d212-f51e-4a86-bc40-4a410a409507-c000.snappy.parquet to S3 bucket capstoneglobaltemp at capstoneglobaltemp/part-00096-9d82d212-f51e-4a86-bc40-4a410a409507-c000.snappy.parquet\n",
      "Uploaded path_to_save_parquet_file.parquet/part-00174-9d82d212-f51e-4a86-bc40-4a410a409507-c000.snappy.parquet to S3 bucket capstoneglobaltemp at capstoneglobaltemp/part-00174-9d82d212-f51e-4a86-bc40-4a410a409507-c000.snappy.parquet\n",
      "Uploaded path_to_save_parquet_file.parquet/part-00138-9d82d212-f51e-4a86-bc40-4a410a409507-c000.snappy.parquet to S3 bucket capstoneglobaltemp at capstoneglobaltemp/part-00138-9d82d212-f51e-4a86-bc40-4a410a409507-c000.snappy.parquet\n",
      "Uploaded path_to_save_parquet_file.parquet/part-00180-9d82d212-f51e-4a86-bc40-4a410a409507-c000.snappy.parquet to S3 bucket capstoneglobaltemp at capstoneglobaltemp/part-00180-9d82d212-f51e-4a86-bc40-4a410a409507-c000.snappy.parquet\n",
      "Uploaded path_to_save_parquet_file.parquet/part-00012-9d82d212-f51e-4a86-bc40-4a410a409507-c000.snappy.parquet to S3 bucket capstoneglobaltemp at capstoneglobaltemp/part-00012-9d82d212-f51e-4a86-bc40-4a410a409507-c000.snappy.parquet\n",
      "Uploaded path_to_save_parquet_file.parquet/part-00140-9d82d212-f51e-4a86-bc40-4a410a409507-c000.snappy.parquet to S3 bucket capstoneglobaltemp at capstoneglobaltemp/part-00140-9d82d212-f51e-4a86-bc40-4a410a409507-c000.snappy.parquet\n",
      "Uploaded path_to_save_parquet_file.parquet/part-00106-9d82d212-f51e-4a86-bc40-4a410a409507-c000.snappy.parquet to S3 bucket capstoneglobaltemp at capstoneglobaltemp/part-00106-9d82d212-f51e-4a86-bc40-4a410a409507-c000.snappy.parquet\n",
      "Uploaded path_to_save_parquet_file.parquet/part-00111-9d82d212-f51e-4a86-bc40-4a410a409507-c000.snappy.parquet to S3 bucket capstoneglobaltemp at capstoneglobaltemp/part-00111-9d82d212-f51e-4a86-bc40-4a410a409507-c000.snappy.parquet\n",
      "Uploaded path_to_save_parquet_file.parquet/part-00189-9d82d212-f51e-4a86-bc40-4a410a409507-c000.snappy.parquet to S3 bucket capstoneglobaltemp at capstoneglobaltemp/part-00189-9d82d212-f51e-4a86-bc40-4a410a409507-c000.snappy.parquet\n",
      "Uploaded path_to_save_parquet_file.parquet/part-00087-9d82d212-f51e-4a86-bc40-4a410a409507-c000.snappy.parquet to S3 bucket capstoneglobaltemp at capstoneglobaltemp/part-00087-9d82d212-f51e-4a86-bc40-4a410a409507-c000.snappy.parquet\n",
      "Uploaded path_to_save_parquet_file.parquet/part-00161-9d82d212-f51e-4a86-bc40-4a410a409507-c000.snappy.parquet to S3 bucket capstoneglobaltemp at capstoneglobaltemp/part-00161-9d82d212-f51e-4a86-bc40-4a410a409507-c000.snappy.parquet\n",
      "Uploaded path_to_save_parquet_file.parquet/part-00187-9d82d212-f51e-4a86-bc40-4a410a409507-c000.snappy.parquet to S3 bucket capstoneglobaltemp at capstoneglobaltemp/part-00187-9d82d212-f51e-4a86-bc40-4a410a409507-c000.snappy.parquet\n",
      "Uploaded path_to_save_parquet_file.parquet/part-00199-9d82d212-f51e-4a86-bc40-4a410a409507-c000.snappy.parquet to S3 bucket capstoneglobaltemp at capstoneglobaltemp/part-00199-9d82d212-f51e-4a86-bc40-4a410a409507-c000.snappy.parquet\n",
      "Uploaded path_to_save_parquet_file.parquet/part-00090-9d82d212-f51e-4a86-bc40-4a410a409507-c000.snappy.parquet to S3 bucket capstoneglobaltemp at capstoneglobaltemp/part-00090-9d82d212-f51e-4a86-bc40-4a410a409507-c000.snappy.parquet\n",
      "Uploaded path_to_save_parquet_file.parquet/part-00095-9d82d212-f51e-4a86-bc40-4a410a409507-c000.snappy.parquet to S3 bucket capstoneglobaltemp at capstoneglobaltemp/part-00095-9d82d212-f51e-4a86-bc40-4a410a409507-c000.snappy.parquet\n",
      "Uploaded path_to_save_parquet_file.parquet/part-00178-9d82d212-f51e-4a86-bc40-4a410a409507-c000.snappy.parquet to S3 bucket capstoneglobaltemp at capstoneglobaltemp/part-00178-9d82d212-f51e-4a86-bc40-4a410a409507-c000.snappy.parquet\n",
      "Uploaded path_to_save_parquet_file.parquet/part-00182-9d82d212-f51e-4a86-bc40-4a410a409507-c000.snappy.parquet to S3 bucket capstoneglobaltemp at capstoneglobaltemp/part-00182-9d82d212-f51e-4a86-bc40-4a410a409507-c000.snappy.parquet\n",
      "Uploaded path_to_save_parquet_file.parquet/part-00176-9d82d212-f51e-4a86-bc40-4a410a409507-c000.snappy.parquet to S3 bucket capstoneglobaltemp at capstoneglobaltemp/part-00176-9d82d212-f51e-4a86-bc40-4a410a409507-c000.snappy.parquet\n",
      "Uploaded path_to_save_parquet_file.parquet/part-00017-9d82d212-f51e-4a86-bc40-4a410a409507-c000.snappy.parquet to S3 bucket capstoneglobaltemp at capstoneglobaltemp/part-00017-9d82d212-f51e-4a86-bc40-4a410a409507-c000.snappy.parquet\n"
     ]
    },
    {
     "name": "stdout",
     "output_type": "stream",
     "text": [
      "Uploaded path_to_save_parquet_file.parquet/part-00085-9d82d212-f51e-4a86-bc40-4a410a409507-c000.snappy.parquet to S3 bucket capstoneglobaltemp at capstoneglobaltemp/part-00085-9d82d212-f51e-4a86-bc40-4a410a409507-c000.snappy.parquet\n",
      "Uploaded path_to_save_parquet_file.parquet/part-00166-9d82d212-f51e-4a86-bc40-4a410a409507-c000.snappy.parquet to S3 bucket capstoneglobaltemp at capstoneglobaltemp/part-00166-9d82d212-f51e-4a86-bc40-4a410a409507-c000.snappy.parquet\n",
      "Uploaded path_to_save_parquet_file.parquet/part-00027-9d82d212-f51e-4a86-bc40-4a410a409507-c000.snappy.parquet to S3 bucket capstoneglobaltemp at capstoneglobaltemp/part-00027-9d82d212-f51e-4a86-bc40-4a410a409507-c000.snappy.parquet\n",
      "Uploaded path_to_save_parquet_file.parquet/part-00131-9d82d212-f51e-4a86-bc40-4a410a409507-c000.snappy.parquet to S3 bucket capstoneglobaltemp at capstoneglobaltemp/part-00131-9d82d212-f51e-4a86-bc40-4a410a409507-c000.snappy.parquet\n",
      "Uploaded path_to_save_parquet_file.parquet/part-00078-9d82d212-f51e-4a86-bc40-4a410a409507-c000.snappy.parquet to S3 bucket capstoneglobaltemp at capstoneglobaltemp/part-00078-9d82d212-f51e-4a86-bc40-4a410a409507-c000.snappy.parquet\n",
      "Uploaded path_to_save_parquet_file.parquet/part-00005-9d82d212-f51e-4a86-bc40-4a410a409507-c000.snappy.parquet to S3 bucket capstoneglobaltemp at capstoneglobaltemp/part-00005-9d82d212-f51e-4a86-bc40-4a410a409507-c000.snappy.parquet\n",
      "Uploaded path_to_save_parquet_file.parquet/part-00188-9d82d212-f51e-4a86-bc40-4a410a409507-c000.snappy.parquet to S3 bucket capstoneglobaltemp at capstoneglobaltemp/part-00188-9d82d212-f51e-4a86-bc40-4a410a409507-c000.snappy.parquet\n",
      "Uploaded path_to_save_parquet_file.parquet/part-00117-9d82d212-f51e-4a86-bc40-4a410a409507-c000.snappy.parquet to S3 bucket capstoneglobaltemp at capstoneglobaltemp/part-00117-9d82d212-f51e-4a86-bc40-4a410a409507-c000.snappy.parquet\n",
      "Uploaded path_to_save_parquet_file.parquet/part-00088-9d82d212-f51e-4a86-bc40-4a410a409507-c000.snappy.parquet to S3 bucket capstoneglobaltemp at capstoneglobaltemp/part-00088-9d82d212-f51e-4a86-bc40-4a410a409507-c000.snappy.parquet\n",
      "Uploaded path_to_save_parquet_file.parquet/part-00033-9d82d212-f51e-4a86-bc40-4a410a409507-c000.snappy.parquet to S3 bucket capstoneglobaltemp at capstoneglobaltemp/part-00033-9d82d212-f51e-4a86-bc40-4a410a409507-c000.snappy.parquet\n",
      "Uploaded path_to_save_parquet_file.parquet/part-00163-9d82d212-f51e-4a86-bc40-4a410a409507-c000.snappy.parquet to S3 bucket capstoneglobaltemp at capstoneglobaltemp/part-00163-9d82d212-f51e-4a86-bc40-4a410a409507-c000.snappy.parquet\n",
      "Uploaded path_to_save_parquet_file.parquet/part-00139-9d82d212-f51e-4a86-bc40-4a410a409507-c000.snappy.parquet to S3 bucket capstoneglobaltemp at capstoneglobaltemp/part-00139-9d82d212-f51e-4a86-bc40-4a410a409507-c000.snappy.parquet\n",
      "Uploaded path_to_save_parquet_file.parquet/part-00119-9d82d212-f51e-4a86-bc40-4a410a409507-c000.snappy.parquet to S3 bucket capstoneglobaltemp at capstoneglobaltemp/part-00119-9d82d212-f51e-4a86-bc40-4a410a409507-c000.snappy.parquet\n",
      "Uploaded path_to_save_parquet_file.parquet/part-00082-9d82d212-f51e-4a86-bc40-4a410a409507-c000.snappy.parquet to S3 bucket capstoneglobaltemp at capstoneglobaltemp/part-00082-9d82d212-f51e-4a86-bc40-4a410a409507-c000.snappy.parquet\n",
      "Uploaded path_to_save_parquet_file.parquet/part-00108-9d82d212-f51e-4a86-bc40-4a410a409507-c000.snappy.parquet to S3 bucket capstoneglobaltemp at capstoneglobaltemp/part-00108-9d82d212-f51e-4a86-bc40-4a410a409507-c000.snappy.parquet\n",
      "Uploaded path_to_save_parquet_file.parquet/part-00132-9d82d212-f51e-4a86-bc40-4a410a409507-c000.snappy.parquet to S3 bucket capstoneglobaltemp at capstoneglobaltemp/part-00132-9d82d212-f51e-4a86-bc40-4a410a409507-c000.snappy.parquet\n",
      "Uploaded path_to_save_parquet_file.parquet/part-00069-9d82d212-f51e-4a86-bc40-4a410a409507-c000.snappy.parquet to S3 bucket capstoneglobaltemp at capstoneglobaltemp/part-00069-9d82d212-f51e-4a86-bc40-4a410a409507-c000.snappy.parquet\n",
      "Uploaded path_to_save_parquet_file.parquet/part-00100-9d82d212-f51e-4a86-bc40-4a410a409507-c000.snappy.parquet to S3 bucket capstoneglobaltemp at capstoneglobaltemp/part-00100-9d82d212-f51e-4a86-bc40-4a410a409507-c000.snappy.parquet\n",
      "Uploaded path_to_save_parquet_file.parquet/part-00055-9d82d212-f51e-4a86-bc40-4a410a409507-c000.snappy.parquet to S3 bucket capstoneglobaltemp at capstoneglobaltemp/part-00055-9d82d212-f51e-4a86-bc40-4a410a409507-c000.snappy.parquet\n",
      "Uploaded path_to_save_parquet_file.parquet/part-00083-9d82d212-f51e-4a86-bc40-4a410a409507-c000.snappy.parquet to S3 bucket capstoneglobaltemp at capstoneglobaltemp/part-00083-9d82d212-f51e-4a86-bc40-4a410a409507-c000.snappy.parquet\n",
      "Uploaded path_to_save_parquet_file.parquet/part-00145-9d82d212-f51e-4a86-bc40-4a410a409507-c000.snappy.parquet to S3 bucket capstoneglobaltemp at capstoneglobaltemp/part-00145-9d82d212-f51e-4a86-bc40-4a410a409507-c000.snappy.parquet\n",
      "Uploaded path_to_save_parquet_file.parquet/part-00021-9d82d212-f51e-4a86-bc40-4a410a409507-c000.snappy.parquet to S3 bucket capstoneglobaltemp at capstoneglobaltemp/part-00021-9d82d212-f51e-4a86-bc40-4a410a409507-c000.snappy.parquet\n",
      "Uploaded path_to_save_parquet_file.parquet/part-00124-9d82d212-f51e-4a86-bc40-4a410a409507-c000.snappy.parquet to S3 bucket capstoneglobaltemp at capstoneglobaltemp/part-00124-9d82d212-f51e-4a86-bc40-4a410a409507-c000.snappy.parquet\n",
      "Uploaded path_to_save_parquet_file.parquet/part-00028-9d82d212-f51e-4a86-bc40-4a410a409507-c000.snappy.parquet to S3 bucket capstoneglobaltemp at capstoneglobaltemp/part-00028-9d82d212-f51e-4a86-bc40-4a410a409507-c000.snappy.parquet\n",
      "Uploaded path_to_save_parquet_file.parquet/part-00198-9d82d212-f51e-4a86-bc40-4a410a409507-c000.snappy.parquet to S3 bucket capstoneglobaltemp at capstoneglobaltemp/part-00198-9d82d212-f51e-4a86-bc40-4a410a409507-c000.snappy.parquet\n",
      "Uploaded path_to_save_parquet_file.parquet/part-00043-9d82d212-f51e-4a86-bc40-4a410a409507-c000.snappy.parquet to S3 bucket capstoneglobaltemp at capstoneglobaltemp/part-00043-9d82d212-f51e-4a86-bc40-4a410a409507-c000.snappy.parquet\n",
      "Uploaded path_to_save_parquet_file.parquet/part-00019-9d82d212-f51e-4a86-bc40-4a410a409507-c000.snappy.parquet to S3 bucket capstoneglobaltemp at capstoneglobaltemp/part-00019-9d82d212-f51e-4a86-bc40-4a410a409507-c000.snappy.parquet\n",
      "Uploaded path_to_save_parquet_file.parquet/part-00173-9d82d212-f51e-4a86-bc40-4a410a409507-c000.snappy.parquet to S3 bucket capstoneglobaltemp at capstoneglobaltemp/part-00173-9d82d212-f51e-4a86-bc40-4a410a409507-c000.snappy.parquet\n",
      "Uploaded path_to_save_parquet_file.parquet/part-00169-9d82d212-f51e-4a86-bc40-4a410a409507-c000.snappy.parquet to S3 bucket capstoneglobaltemp at capstoneglobaltemp/part-00169-9d82d212-f51e-4a86-bc40-4a410a409507-c000.snappy.parquet\n",
      "Uploaded path_to_save_parquet_file.parquet/part-00177-9d82d212-f51e-4a86-bc40-4a410a409507-c000.snappy.parquet to S3 bucket capstoneglobaltemp at capstoneglobaltemp/part-00177-9d82d212-f51e-4a86-bc40-4a410a409507-c000.snappy.parquet\n",
      "Uploaded path_to_save_parquet_file.parquet/part-00194-9d82d212-f51e-4a86-bc40-4a410a409507-c000.snappy.parquet to S3 bucket capstoneglobaltemp at capstoneglobaltemp/part-00194-9d82d212-f51e-4a86-bc40-4a410a409507-c000.snappy.parquet\n",
      "Uploaded path_to_save_parquet_file.parquet/part-00048-9d82d212-f51e-4a86-bc40-4a410a409507-c000.snappy.parquet to S3 bucket capstoneglobaltemp at capstoneglobaltemp/part-00048-9d82d212-f51e-4a86-bc40-4a410a409507-c000.snappy.parquet\n",
      "Uploaded path_to_save_parquet_file.parquet/part-00101-9d82d212-f51e-4a86-bc40-4a410a409507-c000.snappy.parquet to S3 bucket capstoneglobaltemp at capstoneglobaltemp/part-00101-9d82d212-f51e-4a86-bc40-4a410a409507-c000.snappy.parquet\n",
      "Uploaded path_to_save_parquet_file.parquet/part-00029-9d82d212-f51e-4a86-bc40-4a410a409507-c000.snappy.parquet to S3 bucket capstoneglobaltemp at capstoneglobaltemp/part-00029-9d82d212-f51e-4a86-bc40-4a410a409507-c000.snappy.parquet\n",
      "Uploaded path_to_save_parquet_file.parquet/part-00068-9d82d212-f51e-4a86-bc40-4a410a409507-c000.snappy.parquet to S3 bucket capstoneglobaltemp at capstoneglobaltemp/part-00068-9d82d212-f51e-4a86-bc40-4a410a409507-c000.snappy.parquet\n",
      "Uploaded path_to_save_parquet_file.parquet/part-00196-9d82d212-f51e-4a86-bc40-4a410a409507-c000.snappy.parquet to S3 bucket capstoneglobaltemp at capstoneglobaltemp/part-00196-9d82d212-f51e-4a86-bc40-4a410a409507-c000.snappy.parquet\n",
      "Uploaded path_to_save_parquet_file.parquet/part-00152-9d82d212-f51e-4a86-bc40-4a410a409507-c000.snappy.parquet to S3 bucket capstoneglobaltemp at capstoneglobaltemp/part-00152-9d82d212-f51e-4a86-bc40-4a410a409507-c000.snappy.parquet\n"
     ]
    },
    {
     "name": "stdout",
     "output_type": "stream",
     "text": [
      "Uploaded path_to_save_parquet_file.parquet/part-00063-9d82d212-f51e-4a86-bc40-4a410a409507-c000.snappy.parquet to S3 bucket capstoneglobaltemp at capstoneglobaltemp/part-00063-9d82d212-f51e-4a86-bc40-4a410a409507-c000.snappy.parquet\n",
      "Uploaded path_to_save_parquet_file.parquet/part-00149-9d82d212-f51e-4a86-bc40-4a410a409507-c000.snappy.parquet to S3 bucket capstoneglobaltemp at capstoneglobaltemp/part-00149-9d82d212-f51e-4a86-bc40-4a410a409507-c000.snappy.parquet\n",
      "Uploaded path_to_save_parquet_file.parquet/part-00143-9d82d212-f51e-4a86-bc40-4a410a409507-c000.snappy.parquet to S3 bucket capstoneglobaltemp at capstoneglobaltemp/part-00143-9d82d212-f51e-4a86-bc40-4a410a409507-c000.snappy.parquet\n",
      "Uploaded path_to_save_parquet_file.parquet/part-00159-9d82d212-f51e-4a86-bc40-4a410a409507-c000.snappy.parquet to S3 bucket capstoneglobaltemp at capstoneglobaltemp/part-00159-9d82d212-f51e-4a86-bc40-4a410a409507-c000.snappy.parquet\n",
      "Uploaded path_to_save_parquet_file.parquet/part-00075-9d82d212-f51e-4a86-bc40-4a410a409507-c000.snappy.parquet to S3 bucket capstoneglobaltemp at capstoneglobaltemp/part-00075-9d82d212-f51e-4a86-bc40-4a410a409507-c000.snappy.parquet\n",
      "Uploaded path_to_save_parquet_file.parquet/part-00144-9d82d212-f51e-4a86-bc40-4a410a409507-c000.snappy.parquet to S3 bucket capstoneglobaltemp at capstoneglobaltemp/part-00144-9d82d212-f51e-4a86-bc40-4a410a409507-c000.snappy.parquet\n",
      "Uploaded path_to_save_parquet_file.parquet/part-00037-9d82d212-f51e-4a86-bc40-4a410a409507-c000.snappy.parquet to S3 bucket capstoneglobaltemp at capstoneglobaltemp/part-00037-9d82d212-f51e-4a86-bc40-4a410a409507-c000.snappy.parquet\n",
      "Uploaded path_to_save_parquet_file.parquet/part-00022-9d82d212-f51e-4a86-bc40-4a410a409507-c000.snappy.parquet to S3 bucket capstoneglobaltemp at capstoneglobaltemp/part-00022-9d82d212-f51e-4a86-bc40-4a410a409507-c000.snappy.parquet\n",
      "Uploaded path_to_save_parquet_file.parquet/part-00072-9d82d212-f51e-4a86-bc40-4a410a409507-c000.snappy.parquet to S3 bucket capstoneglobaltemp at capstoneglobaltemp/part-00072-9d82d212-f51e-4a86-bc40-4a410a409507-c000.snappy.parquet\n",
      "Uploaded path_to_save_parquet_file.parquet/part-00151-9d82d212-f51e-4a86-bc40-4a410a409507-c000.snappy.parquet to S3 bucket capstoneglobaltemp at capstoneglobaltemp/part-00151-9d82d212-f51e-4a86-bc40-4a410a409507-c000.snappy.parquet\n",
      "Uploaded path_to_save_parquet_file.parquet/part-00104-9d82d212-f51e-4a86-bc40-4a410a409507-c000.snappy.parquet to S3 bucket capstoneglobaltemp at capstoneglobaltemp/part-00104-9d82d212-f51e-4a86-bc40-4a410a409507-c000.snappy.parquet\n",
      "Uploaded path_to_save_parquet_file.parquet/part-00168-9d82d212-f51e-4a86-bc40-4a410a409507-c000.snappy.parquet to S3 bucket capstoneglobaltemp at capstoneglobaltemp/part-00168-9d82d212-f51e-4a86-bc40-4a410a409507-c000.snappy.parquet\n",
      "Uploaded path_to_save_parquet_file.parquet/part-00036-9d82d212-f51e-4a86-bc40-4a410a409507-c000.snappy.parquet to S3 bucket capstoneglobaltemp at capstoneglobaltemp/part-00036-9d82d212-f51e-4a86-bc40-4a410a409507-c000.snappy.parquet\n",
      "Uploaded path_to_save_parquet_file.parquet/part-00056-9d82d212-f51e-4a86-bc40-4a410a409507-c000.snappy.parquet to S3 bucket capstoneglobaltemp at capstoneglobaltemp/part-00056-9d82d212-f51e-4a86-bc40-4a410a409507-c000.snappy.parquet\n",
      "Uploaded path_to_save_parquet_file.parquet/part-00009-9d82d212-f51e-4a86-bc40-4a410a409507-c000.snappy.parquet to S3 bucket capstoneglobaltemp at capstoneglobaltemp/part-00009-9d82d212-f51e-4a86-bc40-4a410a409507-c000.snappy.parquet\n",
      "Uploaded path_to_save_parquet_file.parquet/part-00107-9d82d212-f51e-4a86-bc40-4a410a409507-c000.snappy.parquet to S3 bucket capstoneglobaltemp at capstoneglobaltemp/part-00107-9d82d212-f51e-4a86-bc40-4a410a409507-c000.snappy.parquet\n",
      "Uploaded path_to_save_parquet_file.parquet/part-00053-9d82d212-f51e-4a86-bc40-4a410a409507-c000.snappy.parquet to S3 bucket capstoneglobaltemp at capstoneglobaltemp/part-00053-9d82d212-f51e-4a86-bc40-4a410a409507-c000.snappy.parquet\n",
      "Uploaded path_to_save_parquet_file.parquet/part-00059-9d82d212-f51e-4a86-bc40-4a410a409507-c000.snappy.parquet to S3 bucket capstoneglobaltemp at capstoneglobaltemp/part-00059-9d82d212-f51e-4a86-bc40-4a410a409507-c000.snappy.parquet\n",
      "Uploaded path_to_save_parquet_file.parquet/part-00110-9d82d212-f51e-4a86-bc40-4a410a409507-c000.snappy.parquet to S3 bucket capstoneglobaltemp at capstoneglobaltemp/part-00110-9d82d212-f51e-4a86-bc40-4a410a409507-c000.snappy.parquet\n",
      "Uploaded path_to_save_parquet_file.parquet/part-00170-9d82d212-f51e-4a86-bc40-4a410a409507-c000.snappy.parquet to S3 bucket capstoneglobaltemp at capstoneglobaltemp/part-00170-9d82d212-f51e-4a86-bc40-4a410a409507-c000.snappy.parquet\n",
      "Uploaded path_to_save_parquet_file.parquet/part-00195-9d82d212-f51e-4a86-bc40-4a410a409507-c000.snappy.parquet to S3 bucket capstoneglobaltemp at capstoneglobaltemp/part-00195-9d82d212-f51e-4a86-bc40-4a410a409507-c000.snappy.parquet\n",
      "Uploaded path_to_save_parquet_file.parquet/part-00134-9d82d212-f51e-4a86-bc40-4a410a409507-c000.snappy.parquet to S3 bucket capstoneglobaltemp at capstoneglobaltemp/part-00134-9d82d212-f51e-4a86-bc40-4a410a409507-c000.snappy.parquet\n",
      "Uploaded path_to_save_parquet_file.parquet/part-00116-9d82d212-f51e-4a86-bc40-4a410a409507-c000.snappy.parquet to S3 bucket capstoneglobaltemp at capstoneglobaltemp/part-00116-9d82d212-f51e-4a86-bc40-4a410a409507-c000.snappy.parquet\n",
      "Uploaded path_to_save_parquet_file.parquet/part-00129-9d82d212-f51e-4a86-bc40-4a410a409507-c000.snappy.parquet to S3 bucket capstoneglobaltemp at capstoneglobaltemp/part-00129-9d82d212-f51e-4a86-bc40-4a410a409507-c000.snappy.parquet\n",
      "Uploaded path_to_save_parquet_file.parquet/part-00013-9d82d212-f51e-4a86-bc40-4a410a409507-c000.snappy.parquet to S3 bucket capstoneglobaltemp at capstoneglobaltemp/part-00013-9d82d212-f51e-4a86-bc40-4a410a409507-c000.snappy.parquet\n",
      "Uploaded path_to_save_parquet_file.parquet/part-00185-9d82d212-f51e-4a86-bc40-4a410a409507-c000.snappy.parquet to S3 bucket capstoneglobaltemp at capstoneglobaltemp/part-00185-9d82d212-f51e-4a86-bc40-4a410a409507-c000.snappy.parquet\n",
      "Uploaded path_to_save_parquet_file.parquet/part-00184-9d82d212-f51e-4a86-bc40-4a410a409507-c000.snappy.parquet to S3 bucket capstoneglobaltemp at capstoneglobaltemp/part-00184-9d82d212-f51e-4a86-bc40-4a410a409507-c000.snappy.parquet\n",
      "Uploaded path_to_save_parquet_file.parquet/part-00171-9d82d212-f51e-4a86-bc40-4a410a409507-c000.snappy.parquet to S3 bucket capstoneglobaltemp at capstoneglobaltemp/part-00171-9d82d212-f51e-4a86-bc40-4a410a409507-c000.snappy.parquet\n",
      "Uploaded path_to_save_parquet_file.parquet/part-00164-9d82d212-f51e-4a86-bc40-4a410a409507-c000.snappy.parquet to S3 bucket capstoneglobaltemp at capstoneglobaltemp/part-00164-9d82d212-f51e-4a86-bc40-4a410a409507-c000.snappy.parquet\n",
      "Uploaded path_to_save_parquet_file.parquet/part-00007-9d82d212-f51e-4a86-bc40-4a410a409507-c000.snappy.parquet to S3 bucket capstoneglobaltemp at capstoneglobaltemp/part-00007-9d82d212-f51e-4a86-bc40-4a410a409507-c000.snappy.parquet\n",
      "Uploaded path_to_save_parquet_file.parquet/part-00133-9d82d212-f51e-4a86-bc40-4a410a409507-c000.snappy.parquet to S3 bucket capstoneglobaltemp at capstoneglobaltemp/part-00133-9d82d212-f51e-4a86-bc40-4a410a409507-c000.snappy.parquet\n",
      "Uploaded path_to_save_parquet_file.parquet/part-00113-9d82d212-f51e-4a86-bc40-4a410a409507-c000.snappy.parquet to S3 bucket capstoneglobaltemp at capstoneglobaltemp/part-00113-9d82d212-f51e-4a86-bc40-4a410a409507-c000.snappy.parquet\n",
      "Uploaded path_to_save_parquet_file.parquet/part-00089-9d82d212-f51e-4a86-bc40-4a410a409507-c000.snappy.parquet to S3 bucket capstoneglobaltemp at capstoneglobaltemp/part-00089-9d82d212-f51e-4a86-bc40-4a410a409507-c000.snappy.parquet\n",
      "Uploaded path_to_save_parquet_file.parquet/part-00153-9d82d212-f51e-4a86-bc40-4a410a409507-c000.snappy.parquet to S3 bucket capstoneglobaltemp at capstoneglobaltemp/part-00153-9d82d212-f51e-4a86-bc40-4a410a409507-c000.snappy.parquet\n",
      "Uploaded path_to_save_parquet_file.parquet/part-00127-9d82d212-f51e-4a86-bc40-4a410a409507-c000.snappy.parquet to S3 bucket capstoneglobaltemp at capstoneglobaltemp/part-00127-9d82d212-f51e-4a86-bc40-4a410a409507-c000.snappy.parquet\n",
      "Uploaded path_to_save_parquet_file.parquet/part-00150-9d82d212-f51e-4a86-bc40-4a410a409507-c000.snappy.parquet to S3 bucket capstoneglobaltemp at capstoneglobaltemp/part-00150-9d82d212-f51e-4a86-bc40-4a410a409507-c000.snappy.parquet\n"
     ]
    },
    {
     "name": "stdout",
     "output_type": "stream",
     "text": [
      "Uploaded path_to_save_parquet_file.parquet/part-00065-9d82d212-f51e-4a86-bc40-4a410a409507-c000.snappy.parquet to S3 bucket capstoneglobaltemp at capstoneglobaltemp/part-00065-9d82d212-f51e-4a86-bc40-4a410a409507-c000.snappy.parquet\n",
      "Uploaded path_to_save_parquet_file.parquet/part-00080-9d82d212-f51e-4a86-bc40-4a410a409507-c000.snappy.parquet to S3 bucket capstoneglobaltemp at capstoneglobaltemp/part-00080-9d82d212-f51e-4a86-bc40-4a410a409507-c000.snappy.parquet\n",
      "Uploaded path_to_save_parquet_file.parquet/part-00031-9d82d212-f51e-4a86-bc40-4a410a409507-c000.snappy.parquet to S3 bucket capstoneglobaltemp at capstoneglobaltemp/part-00031-9d82d212-f51e-4a86-bc40-4a410a409507-c000.snappy.parquet\n",
      "Uploaded path_to_save_parquet_file.parquet/part-00162-9d82d212-f51e-4a86-bc40-4a410a409507-c000.snappy.parquet to S3 bucket capstoneglobaltemp at capstoneglobaltemp/part-00162-9d82d212-f51e-4a86-bc40-4a410a409507-c000.snappy.parquet\n",
      "Uploaded path_to_save_parquet_file.parquet/part-00071-9d82d212-f51e-4a86-bc40-4a410a409507-c000.snappy.parquet to S3 bucket capstoneglobaltemp at capstoneglobaltemp/part-00071-9d82d212-f51e-4a86-bc40-4a410a409507-c000.snappy.parquet\n",
      "Uploaded path_to_save_parquet_file.parquet/part-00179-9d82d212-f51e-4a86-bc40-4a410a409507-c000.snappy.parquet to S3 bucket capstoneglobaltemp at capstoneglobaltemp/part-00179-9d82d212-f51e-4a86-bc40-4a410a409507-c000.snappy.parquet\n",
      "Uploaded path_to_save_parquet_file.parquet/part-00097-9d82d212-f51e-4a86-bc40-4a410a409507-c000.snappy.parquet to S3 bucket capstoneglobaltemp at capstoneglobaltemp/part-00097-9d82d212-f51e-4a86-bc40-4a410a409507-c000.snappy.parquet\n",
      "Uploaded path_to_save_parquet_file.parquet/part-00128-9d82d212-f51e-4a86-bc40-4a410a409507-c000.snappy.parquet to S3 bucket capstoneglobaltemp at capstoneglobaltemp/part-00128-9d82d212-f51e-4a86-bc40-4a410a409507-c000.snappy.parquet\n",
      "Uploaded path_to_save_parquet_file.parquet/part-00094-9d82d212-f51e-4a86-bc40-4a410a409507-c000.snappy.parquet to S3 bucket capstoneglobaltemp at capstoneglobaltemp/part-00094-9d82d212-f51e-4a86-bc40-4a410a409507-c000.snappy.parquet\n",
      "Uploaded path_to_save_parquet_file.parquet/part-00157-9d82d212-f51e-4a86-bc40-4a410a409507-c000.snappy.parquet to S3 bucket capstoneglobaltemp at capstoneglobaltemp/part-00157-9d82d212-f51e-4a86-bc40-4a410a409507-c000.snappy.parquet\n",
      "Uploaded path_to_save_parquet_file.parquet/part-00135-9d82d212-f51e-4a86-bc40-4a410a409507-c000.snappy.parquet to S3 bucket capstoneglobaltemp at capstoneglobaltemp/part-00135-9d82d212-f51e-4a86-bc40-4a410a409507-c000.snappy.parquet\n",
      "Uploaded path_to_save_parquet_file.parquet/part-00066-9d82d212-f51e-4a86-bc40-4a410a409507-c000.snappy.parquet to S3 bucket capstoneglobaltemp at capstoneglobaltemp/part-00066-9d82d212-f51e-4a86-bc40-4a410a409507-c000.snappy.parquet\n",
      "Uploaded path_to_save_parquet_file.parquet/part-00047-9d82d212-f51e-4a86-bc40-4a410a409507-c000.snappy.parquet to S3 bucket capstoneglobaltemp at capstoneglobaltemp/part-00047-9d82d212-f51e-4a86-bc40-4a410a409507-c000.snappy.parquet\n",
      "Uploaded path_to_save_parquet_file.parquet/part-00079-9d82d212-f51e-4a86-bc40-4a410a409507-c000.snappy.parquet to S3 bucket capstoneglobaltemp at capstoneglobaltemp/part-00079-9d82d212-f51e-4a86-bc40-4a410a409507-c000.snappy.parquet\n",
      "Uploaded path_to_save_parquet_file.parquet/part-00050-9d82d212-f51e-4a86-bc40-4a410a409507-c000.snappy.parquet to S3 bucket capstoneglobaltemp at capstoneglobaltemp/part-00050-9d82d212-f51e-4a86-bc40-4a410a409507-c000.snappy.parquet\n",
      "Uploaded path_to_save_parquet_file.parquet/part-00064-9d82d212-f51e-4a86-bc40-4a410a409507-c000.snappy.parquet to S3 bucket capstoneglobaltemp at capstoneglobaltemp/part-00064-9d82d212-f51e-4a86-bc40-4a410a409507-c000.snappy.parquet\n",
      "Uploaded path_to_save_parquet_file.parquet/part-00109-9d82d212-f51e-4a86-bc40-4a410a409507-c000.snappy.parquet to S3 bucket capstoneglobaltemp at capstoneglobaltemp/part-00109-9d82d212-f51e-4a86-bc40-4a410a409507-c000.snappy.parquet\n",
      "Uploaded path_to_save_parquet_file.parquet/part-00058-9d82d212-f51e-4a86-bc40-4a410a409507-c000.snappy.parquet to S3 bucket capstoneglobaltemp at capstoneglobaltemp/part-00058-9d82d212-f51e-4a86-bc40-4a410a409507-c000.snappy.parquet\n",
      "Uploaded path_to_save_parquet_file.parquet/part-00172-9d82d212-f51e-4a86-bc40-4a410a409507-c000.snappy.parquet to S3 bucket capstoneglobaltemp at capstoneglobaltemp/part-00172-9d82d212-f51e-4a86-bc40-4a410a409507-c000.snappy.parquet\n",
      "Uploaded path_to_save_parquet_file.parquet/part-00130-9d82d212-f51e-4a86-bc40-4a410a409507-c000.snappy.parquet to S3 bucket capstoneglobaltemp at capstoneglobaltemp/part-00130-9d82d212-f51e-4a86-bc40-4a410a409507-c000.snappy.parquet\n",
      "Uploaded path_to_save_parquet_file.parquet/part-00034-9d82d212-f51e-4a86-bc40-4a410a409507-c000.snappy.parquet to S3 bucket capstoneglobaltemp at capstoneglobaltemp/part-00034-9d82d212-f51e-4a86-bc40-4a410a409507-c000.snappy.parquet\n",
      "Uploaded path_to_save_parquet_file.parquet/part-00186-9d82d212-f51e-4a86-bc40-4a410a409507-c000.snappy.parquet to S3 bucket capstoneglobaltemp at capstoneglobaltemp/part-00186-9d82d212-f51e-4a86-bc40-4a410a409507-c000.snappy.parquet\n",
      "Uploaded path_to_save_parquet_file.parquet/part-00115-9d82d212-f51e-4a86-bc40-4a410a409507-c000.snappy.parquet to S3 bucket capstoneglobaltemp at capstoneglobaltemp/part-00115-9d82d212-f51e-4a86-bc40-4a410a409507-c000.snappy.parquet\n",
      "Uploaded path_to_save_parquet_file.parquet/part-00003-9d82d212-f51e-4a86-bc40-4a410a409507-c000.snappy.parquet to S3 bucket capstoneglobaltemp at capstoneglobaltemp/part-00003-9d82d212-f51e-4a86-bc40-4a410a409507-c000.snappy.parquet\n",
      "Uploaded path_to_save_parquet_file.parquet/part-00060-9d82d212-f51e-4a86-bc40-4a410a409507-c000.snappy.parquet to S3 bucket capstoneglobaltemp at capstoneglobaltemp/part-00060-9d82d212-f51e-4a86-bc40-4a410a409507-c000.snappy.parquet\n",
      "Uploaded path_to_save_parquet_file.parquet/part-00002-9d82d212-f51e-4a86-bc40-4a410a409507-c000.snappy.parquet to S3 bucket capstoneglobaltemp at capstoneglobaltemp/part-00002-9d82d212-f51e-4a86-bc40-4a410a409507-c000.snappy.parquet\n",
      "Uploaded path_to_save_parquet_file.parquet/part-00004-9d82d212-f51e-4a86-bc40-4a410a409507-c000.snappy.parquet to S3 bucket capstoneglobaltemp at capstoneglobaltemp/part-00004-9d82d212-f51e-4a86-bc40-4a410a409507-c000.snappy.parquet\n",
      "Uploaded path_to_save_parquet_file.parquet/part-00000-9d82d212-f51e-4a86-bc40-4a410a409507-c000.snappy.parquet to S3 bucket capstoneglobaltemp at capstoneglobaltemp/part-00000-9d82d212-f51e-4a86-bc40-4a410a409507-c000.snappy.parquet\n",
      "Uploaded path_to_save_parquet_file.parquet/part-00183-9d82d212-f51e-4a86-bc40-4a410a409507-c000.snappy.parquet to S3 bucket capstoneglobaltemp at capstoneglobaltemp/part-00183-9d82d212-f51e-4a86-bc40-4a410a409507-c000.snappy.parquet\n",
      "Uploaded path_to_save_parquet_file.parquet/part-00018-9d82d212-f51e-4a86-bc40-4a410a409507-c000.snappy.parquet to S3 bucket capstoneglobaltemp at capstoneglobaltemp/part-00018-9d82d212-f51e-4a86-bc40-4a410a409507-c000.snappy.parquet\n",
      "Uploaded path_to_save_parquet_file.parquet/part-00165-9d82d212-f51e-4a86-bc40-4a410a409507-c000.snappy.parquet to S3 bucket capstoneglobaltemp at capstoneglobaltemp/part-00165-9d82d212-f51e-4a86-bc40-4a410a409507-c000.snappy.parquet\n",
      "Uploaded path_to_save_parquet_file.parquet/part-00008-9d82d212-f51e-4a86-bc40-4a410a409507-c000.snappy.parquet to S3 bucket capstoneglobaltemp at capstoneglobaltemp/part-00008-9d82d212-f51e-4a86-bc40-4a410a409507-c000.snappy.parquet\n",
      "Uploaded path_to_save_parquet_file.parquet/part-00025-9d82d212-f51e-4a86-bc40-4a410a409507-c000.snappy.parquet to S3 bucket capstoneglobaltemp at capstoneglobaltemp/part-00025-9d82d212-f51e-4a86-bc40-4a410a409507-c000.snappy.parquet\n",
      "Uploaded path_to_save_parquet_file.parquet/part-00045-9d82d212-f51e-4a86-bc40-4a410a409507-c000.snappy.parquet to S3 bucket capstoneglobaltemp at capstoneglobaltemp/part-00045-9d82d212-f51e-4a86-bc40-4a410a409507-c000.snappy.parquet\n",
      "Uploaded path_to_save_parquet_file.parquet/part-00105-9d82d212-f51e-4a86-bc40-4a410a409507-c000.snappy.parquet to S3 bucket capstoneglobaltemp at capstoneglobaltemp/part-00105-9d82d212-f51e-4a86-bc40-4a410a409507-c000.snappy.parquet\n",
      "Uploaded path_to_save_parquet_file.parquet/part-00040-9d82d212-f51e-4a86-bc40-4a410a409507-c000.snappy.parquet to S3 bucket capstoneglobaltemp at capstoneglobaltemp/part-00040-9d82d212-f51e-4a86-bc40-4a410a409507-c000.snappy.parquet\n"
     ]
    },
    {
     "name": "stdout",
     "output_type": "stream",
     "text": [
      "Uploaded path_to_save_parquet_file.parquet/part-00175-9d82d212-f51e-4a86-bc40-4a410a409507-c000.snappy.parquet to S3 bucket capstoneglobaltemp at capstoneglobaltemp/part-00175-9d82d212-f51e-4a86-bc40-4a410a409507-c000.snappy.parquet\n",
      "Uploaded path_to_save_parquet_file.parquet/part-00046-9d82d212-f51e-4a86-bc40-4a410a409507-c000.snappy.parquet to S3 bucket capstoneglobaltemp at capstoneglobaltemp/part-00046-9d82d212-f51e-4a86-bc40-4a410a409507-c000.snappy.parquet\n",
      "Uploaded path_to_save_parquet_file.parquet/part-00099-9d82d212-f51e-4a86-bc40-4a410a409507-c000.snappy.parquet to S3 bucket capstoneglobaltemp at capstoneglobaltemp/part-00099-9d82d212-f51e-4a86-bc40-4a410a409507-c000.snappy.parquet\n",
      "Uploaded path_to_save_parquet_file.parquet/part-00146-9d82d212-f51e-4a86-bc40-4a410a409507-c000.snappy.parquet to S3 bucket capstoneglobaltemp at capstoneglobaltemp/part-00146-9d82d212-f51e-4a86-bc40-4a410a409507-c000.snappy.parquet\n",
      "Uploaded path_to_save_parquet_file.parquet/part-00041-9d82d212-f51e-4a86-bc40-4a410a409507-c000.snappy.parquet to S3 bucket capstoneglobaltemp at capstoneglobaltemp/part-00041-9d82d212-f51e-4a86-bc40-4a410a409507-c000.snappy.parquet\n",
      "Uploaded path_to_save_parquet_file.parquet/part-00035-9d82d212-f51e-4a86-bc40-4a410a409507-c000.snappy.parquet to S3 bucket capstoneglobaltemp at capstoneglobaltemp/part-00035-9d82d212-f51e-4a86-bc40-4a410a409507-c000.snappy.parquet\n",
      "Uploaded path_to_save_parquet_file.parquet/part-00167-9d82d212-f51e-4a86-bc40-4a410a409507-c000.snappy.parquet to S3 bucket capstoneglobaltemp at capstoneglobaltemp/part-00167-9d82d212-f51e-4a86-bc40-4a410a409507-c000.snappy.parquet\n",
      "Uploaded path_to_save_parquet_file.parquet/part-00067-9d82d212-f51e-4a86-bc40-4a410a409507-c000.snappy.parquet to S3 bucket capstoneglobaltemp at capstoneglobaltemp/part-00067-9d82d212-f51e-4a86-bc40-4a410a409507-c000.snappy.parquet\n",
      "Uploaded path_to_save_parquet_file.parquet/part-00141-9d82d212-f51e-4a86-bc40-4a410a409507-c000.snappy.parquet to S3 bucket capstoneglobaltemp at capstoneglobaltemp/part-00141-9d82d212-f51e-4a86-bc40-4a410a409507-c000.snappy.parquet\n",
      "Uploaded path_to_save_parquet_file.parquet/part-00015-9d82d212-f51e-4a86-bc40-4a410a409507-c000.snappy.parquet to S3 bucket capstoneglobaltemp at capstoneglobaltemp/part-00015-9d82d212-f51e-4a86-bc40-4a410a409507-c000.snappy.parquet\n",
      "Uploaded path_to_save_parquet_file.parquet/part-00026-9d82d212-f51e-4a86-bc40-4a410a409507-c000.snappy.parquet to S3 bucket capstoneglobaltemp at capstoneglobaltemp/part-00026-9d82d212-f51e-4a86-bc40-4a410a409507-c000.snappy.parquet\n",
      "Uploaded path_to_save_parquet_file.parquet/part-00044-9d82d212-f51e-4a86-bc40-4a410a409507-c000.snappy.parquet to S3 bucket capstoneglobaltemp at capstoneglobaltemp/part-00044-9d82d212-f51e-4a86-bc40-4a410a409507-c000.snappy.parquet\n",
      "Uploaded path_to_save_parquet_file.parquet/part-00190-9d82d212-f51e-4a86-bc40-4a410a409507-c000.snappy.parquet to S3 bucket capstoneglobaltemp at capstoneglobaltemp/part-00190-9d82d212-f51e-4a86-bc40-4a410a409507-c000.snappy.parquet\n",
      "Uploaded path_to_save_parquet_file.parquet/part-00030-9d82d212-f51e-4a86-bc40-4a410a409507-c000.snappy.parquet to S3 bucket capstoneglobaltemp at capstoneglobaltemp/part-00030-9d82d212-f51e-4a86-bc40-4a410a409507-c000.snappy.parquet\n",
      "Uploaded path_to_save_parquet_file.parquet/part-00114-9d82d212-f51e-4a86-bc40-4a410a409507-c000.snappy.parquet to S3 bucket capstoneglobaltemp at capstoneglobaltemp/part-00114-9d82d212-f51e-4a86-bc40-4a410a409507-c000.snappy.parquet\n",
      "Uploaded path_to_save_parquet_file.parquet/part-00049-9d82d212-f51e-4a86-bc40-4a410a409507-c000.snappy.parquet to S3 bucket capstoneglobaltemp at capstoneglobaltemp/part-00049-9d82d212-f51e-4a86-bc40-4a410a409507-c000.snappy.parquet\n",
      "Uploaded path_to_save_parquet_file.parquet/part-00077-9d82d212-f51e-4a86-bc40-4a410a409507-c000.snappy.parquet to S3 bucket capstoneglobaltemp at capstoneglobaltemp/part-00077-9d82d212-f51e-4a86-bc40-4a410a409507-c000.snappy.parquet\n",
      "Uploaded path_to_save_parquet_file.parquet/part-00091-9d82d212-f51e-4a86-bc40-4a410a409507-c000.snappy.parquet to S3 bucket capstoneglobaltemp at capstoneglobaltemp/part-00091-9d82d212-f51e-4a86-bc40-4a410a409507-c000.snappy.parquet\n",
      "Uploaded path_to_save_parquet_file.parquet/part-00098-9d82d212-f51e-4a86-bc40-4a410a409507-c000.snappy.parquet to S3 bucket capstoneglobaltemp at capstoneglobaltemp/part-00098-9d82d212-f51e-4a86-bc40-4a410a409507-c000.snappy.parquet\n",
      "Uploaded path_to_save_parquet_file.parquet/part-00123-9d82d212-f51e-4a86-bc40-4a410a409507-c000.snappy.parquet to S3 bucket capstoneglobaltemp at capstoneglobaltemp/part-00123-9d82d212-f51e-4a86-bc40-4a410a409507-c000.snappy.parquet\n",
      "Uploaded path_to_save_parquet_file.parquet/part-00181-9d82d212-f51e-4a86-bc40-4a410a409507-c000.snappy.parquet to S3 bucket capstoneglobaltemp at capstoneglobaltemp/part-00181-9d82d212-f51e-4a86-bc40-4a410a409507-c000.snappy.parquet\n",
      "Uploaded path_to_save_parquet_file.parquet/part-00092-9d82d212-f51e-4a86-bc40-4a410a409507-c000.snappy.parquet to S3 bucket capstoneglobaltemp at capstoneglobaltemp/part-00092-9d82d212-f51e-4a86-bc40-4a410a409507-c000.snappy.parquet\n",
      "Uploaded path_to_save_parquet_file.parquet/part-00051-9d82d212-f51e-4a86-bc40-4a410a409507-c000.snappy.parquet to S3 bucket capstoneglobaltemp at capstoneglobaltemp/part-00051-9d82d212-f51e-4a86-bc40-4a410a409507-c000.snappy.parquet\n",
      "Uploaded path_to_save_parquet_file.parquet/part-00197-9d82d212-f51e-4a86-bc40-4a410a409507-c000.snappy.parquet to S3 bucket capstoneglobaltemp at capstoneglobaltemp/part-00197-9d82d212-f51e-4a86-bc40-4a410a409507-c000.snappy.parquet\n",
      "Uploaded path_to_save_parquet_file.parquet/part-00016-9d82d212-f51e-4a86-bc40-4a410a409507-c000.snappy.parquet to S3 bucket capstoneglobaltemp at capstoneglobaltemp/part-00016-9d82d212-f51e-4a86-bc40-4a410a409507-c000.snappy.parquet\n",
      "Uploaded path_to_save_parquet_file.parquet/part-00112-9d82d212-f51e-4a86-bc40-4a410a409507-c000.snappy.parquet to S3 bucket capstoneglobaltemp at capstoneglobaltemp/part-00112-9d82d212-f51e-4a86-bc40-4a410a409507-c000.snappy.parquet\n",
      "Uploaded path_to_save_parquet_file.parquet/part-00158-9d82d212-f51e-4a86-bc40-4a410a409507-c000.snappy.parquet to S3 bucket capstoneglobaltemp at capstoneglobaltemp/part-00158-9d82d212-f51e-4a86-bc40-4a410a409507-c000.snappy.parquet\n",
      "Uploaded path_to_save_parquet_file.parquet/part-00001-9d82d212-f51e-4a86-bc40-4a410a409507-c000.snappy.parquet to S3 bucket capstoneglobaltemp at capstoneglobaltemp/part-00001-9d82d212-f51e-4a86-bc40-4a410a409507-c000.snappy.parquet\n",
      "Uploaded path_to_save_parquet_file.parquet/part-00156-9d82d212-f51e-4a86-bc40-4a410a409507-c000.snappy.parquet to S3 bucket capstoneglobaltemp at capstoneglobaltemp/part-00156-9d82d212-f51e-4a86-bc40-4a410a409507-c000.snappy.parquet\n",
      "Uploaded path_to_save_parquet_file.parquet/part-00160-9d82d212-f51e-4a86-bc40-4a410a409507-c000.snappy.parquet to S3 bucket capstoneglobaltemp at capstoneglobaltemp/part-00160-9d82d212-f51e-4a86-bc40-4a410a409507-c000.snappy.parquet\n",
      "Uploaded path_to_save_parquet_file.parquet/part-00122-9d82d212-f51e-4a86-bc40-4a410a409507-c000.snappy.parquet to S3 bucket capstoneglobaltemp at capstoneglobaltemp/part-00122-9d82d212-f51e-4a86-bc40-4a410a409507-c000.snappy.parquet\n",
      "Uploaded path_to_save_parquet_file.parquet/part-00193-9d82d212-f51e-4a86-bc40-4a410a409507-c000.snappy.parquet to S3 bucket capstoneglobaltemp at capstoneglobaltemp/part-00193-9d82d212-f51e-4a86-bc40-4a410a409507-c000.snappy.parquet\n",
      "Uploaded path_to_save_parquet_file.parquet/part-00042-9d82d212-f51e-4a86-bc40-4a410a409507-c000.snappy.parquet to S3 bucket capstoneglobaltemp at capstoneglobaltemp/part-00042-9d82d212-f51e-4a86-bc40-4a410a409507-c000.snappy.parquet\n",
      "Uploaded path_to_save_parquet_file.parquet/part-00081-9d82d212-f51e-4a86-bc40-4a410a409507-c000.snappy.parquet to S3 bucket capstoneglobaltemp at capstoneglobaltemp/part-00081-9d82d212-f51e-4a86-bc40-4a410a409507-c000.snappy.parquet\n",
      "Uploaded path_to_save_parquet_file.parquet/part-00147-9d82d212-f51e-4a86-bc40-4a410a409507-c000.snappy.parquet to S3 bucket capstoneglobaltemp at capstoneglobaltemp/part-00147-9d82d212-f51e-4a86-bc40-4a410a409507-c000.snappy.parquet\n",
      "Uploaded path_to_save_parquet_file.parquet/part-00126-9d82d212-f51e-4a86-bc40-4a410a409507-c000.snappy.parquet to S3 bucket capstoneglobaltemp at capstoneglobaltemp/part-00126-9d82d212-f51e-4a86-bc40-4a410a409507-c000.snappy.parquet\n"
     ]
    },
    {
     "name": "stdout",
     "output_type": "stream",
     "text": [
      "Uploaded path_to_save_parquet_file.parquet/part-00024-9d82d212-f51e-4a86-bc40-4a410a409507-c000.snappy.parquet to S3 bucket capstoneglobaltemp at capstoneglobaltemp/part-00024-9d82d212-f51e-4a86-bc40-4a410a409507-c000.snappy.parquet\n",
      "Uploaded path_to_save_parquet_file.parquet/part-00120-9d82d212-f51e-4a86-bc40-4a410a409507-c000.snappy.parquet to S3 bucket capstoneglobaltemp at capstoneglobaltemp/part-00120-9d82d212-f51e-4a86-bc40-4a410a409507-c000.snappy.parquet\n",
      "Uploaded path_to_save_parquet_file.parquet/part-00062-9d82d212-f51e-4a86-bc40-4a410a409507-c000.snappy.parquet to S3 bucket capstoneglobaltemp at capstoneglobaltemp/part-00062-9d82d212-f51e-4a86-bc40-4a410a409507-c000.snappy.parquet\n",
      "Uploaded path_to_save_parquet_file.parquet/part-00136-9d82d212-f51e-4a86-bc40-4a410a409507-c000.snappy.parquet to S3 bucket capstoneglobaltemp at capstoneglobaltemp/part-00136-9d82d212-f51e-4a86-bc40-4a410a409507-c000.snappy.parquet\n",
      "Uploaded path_to_save_parquet_file.parquet/part-00039-9d82d212-f51e-4a86-bc40-4a410a409507-c000.snappy.parquet to S3 bucket capstoneglobaltemp at capstoneglobaltemp/part-00039-9d82d212-f51e-4a86-bc40-4a410a409507-c000.snappy.parquet\n",
      "Uploaded path_to_save_parquet_file.parquet/part-00010-9d82d212-f51e-4a86-bc40-4a410a409507-c000.snappy.parquet to S3 bucket capstoneglobaltemp at capstoneglobaltemp/part-00010-9d82d212-f51e-4a86-bc40-4a410a409507-c000.snappy.parquet\n",
      "Uploaded path_to_save_parquet_file.parquet/part-00118-9d82d212-f51e-4a86-bc40-4a410a409507-c000.snappy.parquet to S3 bucket capstoneglobaltemp at capstoneglobaltemp/part-00118-9d82d212-f51e-4a86-bc40-4a410a409507-c000.snappy.parquet\n",
      "Uploaded path_to_save_parquet_file.parquet/part-00125-9d82d212-f51e-4a86-bc40-4a410a409507-c000.snappy.parquet to S3 bucket capstoneglobaltemp at capstoneglobaltemp/part-00125-9d82d212-f51e-4a86-bc40-4a410a409507-c000.snappy.parquet\n",
      "Uploaded path_to_save_parquet_file.parquet/part-00191-9d82d212-f51e-4a86-bc40-4a410a409507-c000.snappy.parquet to S3 bucket capstoneglobaltemp at capstoneglobaltemp/part-00191-9d82d212-f51e-4a86-bc40-4a410a409507-c000.snappy.parquet\n",
      "Uploaded path_to_save_parquet_file.parquet/part-00057-9d82d212-f51e-4a86-bc40-4a410a409507-c000.snappy.parquet to S3 bucket capstoneglobaltemp at capstoneglobaltemp/part-00057-9d82d212-f51e-4a86-bc40-4a410a409507-c000.snappy.parquet\n",
      "Uploaded path_to_save_parquet_file.parquet/part-00086-9d82d212-f51e-4a86-bc40-4a410a409507-c000.snappy.parquet to S3 bucket capstoneglobaltemp at capstoneglobaltemp/part-00086-9d82d212-f51e-4a86-bc40-4a410a409507-c000.snappy.parquet\n",
      "Uploaded path_to_save_parquet_file.parquet/part-00076-9d82d212-f51e-4a86-bc40-4a410a409507-c000.snappy.parquet to S3 bucket capstoneglobaltemp at capstoneglobaltemp/part-00076-9d82d212-f51e-4a86-bc40-4a410a409507-c000.snappy.parquet\n",
      "Uploaded path_to_save_parquet_file.parquet/part-00070-9d82d212-f51e-4a86-bc40-4a410a409507-c000.snappy.parquet to S3 bucket capstoneglobaltemp at capstoneglobaltemp/part-00070-9d82d212-f51e-4a86-bc40-4a410a409507-c000.snappy.parquet\n",
      "Uploaded path_to_save_parquet_file.parquet/part-00154-9d82d212-f51e-4a86-bc40-4a410a409507-c000.snappy.parquet to S3 bucket capstoneglobaltemp at capstoneglobaltemp/part-00154-9d82d212-f51e-4a86-bc40-4a410a409507-c000.snappy.parquet\n",
      "Uploaded path_to_save_parquet_file.parquet/part-00006-9d82d212-f51e-4a86-bc40-4a410a409507-c000.snappy.parquet to S3 bucket capstoneglobaltemp at capstoneglobaltemp/part-00006-9d82d212-f51e-4a86-bc40-4a410a409507-c000.snappy.parquet\n",
      "Uploaded path_to_save_parquet_file.parquet/part-00102-9d82d212-f51e-4a86-bc40-4a410a409507-c000.snappy.parquet to S3 bucket capstoneglobaltemp at capstoneglobaltemp/part-00102-9d82d212-f51e-4a86-bc40-4a410a409507-c000.snappy.parquet\n",
      "Uploaded path_to_save_parquet_file.parquet/part-00084-9d82d212-f51e-4a86-bc40-4a410a409507-c000.snappy.parquet to S3 bucket capstoneglobaltemp at capstoneglobaltemp/part-00084-9d82d212-f51e-4a86-bc40-4a410a409507-c000.snappy.parquet\n",
      "Uploaded path_to_save_parquet_file.parquet/part-00103-9d82d212-f51e-4a86-bc40-4a410a409507-c000.snappy.parquet to S3 bucket capstoneglobaltemp at capstoneglobaltemp/part-00103-9d82d212-f51e-4a86-bc40-4a410a409507-c000.snappy.parquet\n",
      "Uploaded path_to_save_parquet_file.parquet/part-00011-9d82d212-f51e-4a86-bc40-4a410a409507-c000.snappy.parquet to S3 bucket capstoneglobaltemp at capstoneglobaltemp/part-00011-9d82d212-f51e-4a86-bc40-4a410a409507-c000.snappy.parquet\n"
     ]
    }
   ],
   "source": [
    "import boto3\n",
    "import os\n",
    "\n",
    "def upload_parquet_files_to_s3(local_directory, s3_bucket):\n",
    "\n",
    "    access_key = ''\n",
    "    secret_key = ''\n",
    "\n",
    "    s3 = boto3.client(\n",
    "    's3',\n",
    "    aws_access_key_id=access_key,\n",
    "    aws_secret_access_key=secret_key\n",
    "    )\n",
    "    \n",
    "    for root, dirs, files in os.walk(local_directory):\n",
    "        for file in files:\n",
    "            if file.endswith('.parquet'):\n",
    "                local_path = os.path.join(root, file)\n",
    "                s3_path = os.path.join(s3_bucket, file)\n",
    "                s3.upload_file(local_path, s3_bucket, s3_path)\n",
    "                print(f\"Uploaded {local_path} to S3 bucket {s3_bucket} at {s3_path}\")\n",
    "\n",
    "# Usage example\n",
    "local_directory = 'path_to_save_parquet_file.parquet'\n",
    "s3_bucket = 'capstoneglobaltemp'\n",
    "\n",
    "upload_parquet_files_to_s3(local_directory, s3_bucket)"
   ]
  },
  {
   "cell_type": "code",
   "execution_count": null,
   "metadata": {},
   "outputs": [],
   "source": [
    "# "
   ]
  }
 ],
 "metadata": {
  "kernelspec": {
   "display_name": "Python 3",
   "language": "python",
   "name": "python3"
  },
  "language_info": {
   "codemirror_mode": {
    "name": "ipython",
    "version": 3
   },
   "file_extension": ".py",
   "mimetype": "text/x-python",
   "name": "python",
   "nbconvert_exporter": "python",
   "pygments_lexer": "ipython3",
   "version": "3.6.3"
  }
 },
 "nbformat": 4,
 "nbformat_minor": 4
}
